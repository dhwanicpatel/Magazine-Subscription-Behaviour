{
 "cells": [
  {
   "cell_type": "code",
   "execution_count": 232,
   "id": "a9a41775",
   "metadata": {},
   "outputs": [],
   "source": [
    "#Installing Libraries\n",
    "import numpy as np\n",
    "import pandas as pd\n",
    "import matplotlib.pyplot as plt\n",
    "from sklearn import datasets\n",
    "from sklearn.linear_model import LogisticRegression\n",
    "from sklearn.model_selection import train_test_split\n",
    "from sklearn.svm import SVC\n",
    "from sklearn.metrics import classification_report, confusion_matrix,accuracy_score\n"
   ]
  },
  {
   "cell_type": "code",
   "execution_count": 268,
   "id": "2b4b2d30",
   "metadata": {},
   "outputs": [],
   "source": [
    "#Importing data\n",
    "m_sales = pd.read_excel('marketing_campaign.xlsx')"
   ]
  },
  {
   "cell_type": "code",
   "execution_count": 269,
   "id": "5cd5d7b5",
   "metadata": {},
   "outputs": [
    {
     "data": {
      "text/html": [
       "<div>\n",
       "<style scoped>\n",
       "    .dataframe tbody tr th:only-of-type {\n",
       "        vertical-align: middle;\n",
       "    }\n",
       "\n",
       "    .dataframe tbody tr th {\n",
       "        vertical-align: top;\n",
       "    }\n",
       "\n",
       "    .dataframe thead th {\n",
       "        text-align: right;\n",
       "    }\n",
       "</style>\n",
       "<table border=\"1\" class=\"dataframe\">\n",
       "  <thead>\n",
       "    <tr style=\"text-align: right;\">\n",
       "      <th></th>\n",
       "      <th>ID</th>\n",
       "      <th>Year_Birth</th>\n",
       "      <th>Education</th>\n",
       "      <th>Marital_Status</th>\n",
       "      <th>Income</th>\n",
       "      <th>Kidhome</th>\n",
       "      <th>Teenhome</th>\n",
       "      <th>Dt_Customer</th>\n",
       "      <th>Recency</th>\n",
       "      <th>MntWines</th>\n",
       "      <th>...</th>\n",
       "      <th>NumWebVisitsMonth</th>\n",
       "      <th>AcceptedCmp3</th>\n",
       "      <th>AcceptedCmp4</th>\n",
       "      <th>AcceptedCmp5</th>\n",
       "      <th>AcceptedCmp1</th>\n",
       "      <th>AcceptedCmp2</th>\n",
       "      <th>Complain</th>\n",
       "      <th>Z_CostContact</th>\n",
       "      <th>Z_Revenue</th>\n",
       "      <th>Response</th>\n",
       "    </tr>\n",
       "  </thead>\n",
       "  <tbody>\n",
       "    <tr>\n",
       "      <th>0</th>\n",
       "      <td>5524</td>\n",
       "      <td>1957</td>\n",
       "      <td>Graduation</td>\n",
       "      <td>Single</td>\n",
       "      <td>58138.0</td>\n",
       "      <td>0</td>\n",
       "      <td>0</td>\n",
       "      <td>2012-09-04</td>\n",
       "      <td>58</td>\n",
       "      <td>635</td>\n",
       "      <td>...</td>\n",
       "      <td>7</td>\n",
       "      <td>0</td>\n",
       "      <td>0</td>\n",
       "      <td>0</td>\n",
       "      <td>0</td>\n",
       "      <td>0</td>\n",
       "      <td>0</td>\n",
       "      <td>3</td>\n",
       "      <td>11</td>\n",
       "      <td>1</td>\n",
       "    </tr>\n",
       "    <tr>\n",
       "      <th>1</th>\n",
       "      <td>2174</td>\n",
       "      <td>1954</td>\n",
       "      <td>Graduation</td>\n",
       "      <td>Single</td>\n",
       "      <td>46344.0</td>\n",
       "      <td>1</td>\n",
       "      <td>1</td>\n",
       "      <td>2014-03-08</td>\n",
       "      <td>38</td>\n",
       "      <td>11</td>\n",
       "      <td>...</td>\n",
       "      <td>5</td>\n",
       "      <td>0</td>\n",
       "      <td>0</td>\n",
       "      <td>0</td>\n",
       "      <td>0</td>\n",
       "      <td>0</td>\n",
       "      <td>0</td>\n",
       "      <td>3</td>\n",
       "      <td>11</td>\n",
       "      <td>0</td>\n",
       "    </tr>\n",
       "    <tr>\n",
       "      <th>2</th>\n",
       "      <td>4141</td>\n",
       "      <td>1965</td>\n",
       "      <td>Graduation</td>\n",
       "      <td>Together</td>\n",
       "      <td>71613.0</td>\n",
       "      <td>0</td>\n",
       "      <td>0</td>\n",
       "      <td>2013-08-21</td>\n",
       "      <td>26</td>\n",
       "      <td>426</td>\n",
       "      <td>...</td>\n",
       "      <td>4</td>\n",
       "      <td>0</td>\n",
       "      <td>0</td>\n",
       "      <td>0</td>\n",
       "      <td>0</td>\n",
       "      <td>0</td>\n",
       "      <td>0</td>\n",
       "      <td>3</td>\n",
       "      <td>11</td>\n",
       "      <td>0</td>\n",
       "    </tr>\n",
       "    <tr>\n",
       "      <th>3</th>\n",
       "      <td>6182</td>\n",
       "      <td>1984</td>\n",
       "      <td>Graduation</td>\n",
       "      <td>Together</td>\n",
       "      <td>26646.0</td>\n",
       "      <td>1</td>\n",
       "      <td>0</td>\n",
       "      <td>2014-02-10</td>\n",
       "      <td>26</td>\n",
       "      <td>11</td>\n",
       "      <td>...</td>\n",
       "      <td>6</td>\n",
       "      <td>0</td>\n",
       "      <td>0</td>\n",
       "      <td>0</td>\n",
       "      <td>0</td>\n",
       "      <td>0</td>\n",
       "      <td>0</td>\n",
       "      <td>3</td>\n",
       "      <td>11</td>\n",
       "      <td>0</td>\n",
       "    </tr>\n",
       "    <tr>\n",
       "      <th>4</th>\n",
       "      <td>5324</td>\n",
       "      <td>1981</td>\n",
       "      <td>PhD</td>\n",
       "      <td>Married</td>\n",
       "      <td>58293.0</td>\n",
       "      <td>1</td>\n",
       "      <td>0</td>\n",
       "      <td>2014-01-19</td>\n",
       "      <td>94</td>\n",
       "      <td>173</td>\n",
       "      <td>...</td>\n",
       "      <td>5</td>\n",
       "      <td>0</td>\n",
       "      <td>0</td>\n",
       "      <td>0</td>\n",
       "      <td>0</td>\n",
       "      <td>0</td>\n",
       "      <td>0</td>\n",
       "      <td>3</td>\n",
       "      <td>11</td>\n",
       "      <td>0</td>\n",
       "    </tr>\n",
       "    <tr>\n",
       "      <th>5</th>\n",
       "      <td>7446</td>\n",
       "      <td>1967</td>\n",
       "      <td>Master</td>\n",
       "      <td>Together</td>\n",
       "      <td>62513.0</td>\n",
       "      <td>0</td>\n",
       "      <td>1</td>\n",
       "      <td>2013-09-09</td>\n",
       "      <td>16</td>\n",
       "      <td>520</td>\n",
       "      <td>...</td>\n",
       "      <td>6</td>\n",
       "      <td>0</td>\n",
       "      <td>0</td>\n",
       "      <td>0</td>\n",
       "      <td>0</td>\n",
       "      <td>0</td>\n",
       "      <td>0</td>\n",
       "      <td>3</td>\n",
       "      <td>11</td>\n",
       "      <td>0</td>\n",
       "    </tr>\n",
       "    <tr>\n",
       "      <th>6</th>\n",
       "      <td>965</td>\n",
       "      <td>1971</td>\n",
       "      <td>Graduation</td>\n",
       "      <td>Divorced</td>\n",
       "      <td>55635.0</td>\n",
       "      <td>0</td>\n",
       "      <td>1</td>\n",
       "      <td>2012-11-13</td>\n",
       "      <td>34</td>\n",
       "      <td>235</td>\n",
       "      <td>...</td>\n",
       "      <td>6</td>\n",
       "      <td>0</td>\n",
       "      <td>0</td>\n",
       "      <td>0</td>\n",
       "      <td>0</td>\n",
       "      <td>0</td>\n",
       "      <td>0</td>\n",
       "      <td>3</td>\n",
       "      <td>11</td>\n",
       "      <td>0</td>\n",
       "    </tr>\n",
       "    <tr>\n",
       "      <th>7</th>\n",
       "      <td>6177</td>\n",
       "      <td>1985</td>\n",
       "      <td>PhD</td>\n",
       "      <td>Married</td>\n",
       "      <td>33454.0</td>\n",
       "      <td>1</td>\n",
       "      <td>0</td>\n",
       "      <td>2013-05-08</td>\n",
       "      <td>32</td>\n",
       "      <td>76</td>\n",
       "      <td>...</td>\n",
       "      <td>8</td>\n",
       "      <td>0</td>\n",
       "      <td>0</td>\n",
       "      <td>0</td>\n",
       "      <td>0</td>\n",
       "      <td>0</td>\n",
       "      <td>0</td>\n",
       "      <td>3</td>\n",
       "      <td>11</td>\n",
       "      <td>0</td>\n",
       "    </tr>\n",
       "    <tr>\n",
       "      <th>8</th>\n",
       "      <td>4855</td>\n",
       "      <td>1974</td>\n",
       "      <td>PhD</td>\n",
       "      <td>Together</td>\n",
       "      <td>30351.0</td>\n",
       "      <td>1</td>\n",
       "      <td>0</td>\n",
       "      <td>2013-06-06</td>\n",
       "      <td>19</td>\n",
       "      <td>14</td>\n",
       "      <td>...</td>\n",
       "      <td>9</td>\n",
       "      <td>0</td>\n",
       "      <td>0</td>\n",
       "      <td>0</td>\n",
       "      <td>0</td>\n",
       "      <td>0</td>\n",
       "      <td>0</td>\n",
       "      <td>3</td>\n",
       "      <td>11</td>\n",
       "      <td>1</td>\n",
       "    </tr>\n",
       "    <tr>\n",
       "      <th>9</th>\n",
       "      <td>5899</td>\n",
       "      <td>1950</td>\n",
       "      <td>PhD</td>\n",
       "      <td>Together</td>\n",
       "      <td>5648.0</td>\n",
       "      <td>1</td>\n",
       "      <td>1</td>\n",
       "      <td>2014-03-13</td>\n",
       "      <td>68</td>\n",
       "      <td>28</td>\n",
       "      <td>...</td>\n",
       "      <td>20</td>\n",
       "      <td>1</td>\n",
       "      <td>0</td>\n",
       "      <td>0</td>\n",
       "      <td>0</td>\n",
       "      <td>0</td>\n",
       "      <td>0</td>\n",
       "      <td>3</td>\n",
       "      <td>11</td>\n",
       "      <td>0</td>\n",
       "    </tr>\n",
       "  </tbody>\n",
       "</table>\n",
       "<p>10 rows × 29 columns</p>\n",
       "</div>"
      ],
      "text/plain": [
       "     ID  Year_Birth   Education Marital_Status   Income  Kidhome  Teenhome  \\\n",
       "0  5524        1957  Graduation         Single  58138.0        0         0   \n",
       "1  2174        1954  Graduation         Single  46344.0        1         1   \n",
       "2  4141        1965  Graduation       Together  71613.0        0         0   \n",
       "3  6182        1984  Graduation       Together  26646.0        1         0   \n",
       "4  5324        1981         PhD        Married  58293.0        1         0   \n",
       "5  7446        1967      Master       Together  62513.0        0         1   \n",
       "6   965        1971  Graduation       Divorced  55635.0        0         1   \n",
       "7  6177        1985         PhD        Married  33454.0        1         0   \n",
       "8  4855        1974         PhD       Together  30351.0        1         0   \n",
       "9  5899        1950         PhD       Together   5648.0        1         1   \n",
       "\n",
       "  Dt_Customer  Recency  MntWines  ...  NumWebVisitsMonth  AcceptedCmp3  \\\n",
       "0  2012-09-04       58       635  ...                  7             0   \n",
       "1  2014-03-08       38        11  ...                  5             0   \n",
       "2  2013-08-21       26       426  ...                  4             0   \n",
       "3  2014-02-10       26        11  ...                  6             0   \n",
       "4  2014-01-19       94       173  ...                  5             0   \n",
       "5  2013-09-09       16       520  ...                  6             0   \n",
       "6  2012-11-13       34       235  ...                  6             0   \n",
       "7  2013-05-08       32        76  ...                  8             0   \n",
       "8  2013-06-06       19        14  ...                  9             0   \n",
       "9  2014-03-13       68        28  ...                 20             1   \n",
       "\n",
       "   AcceptedCmp4  AcceptedCmp5  AcceptedCmp1  AcceptedCmp2  Complain  \\\n",
       "0             0             0             0             0         0   \n",
       "1             0             0             0             0         0   \n",
       "2             0             0             0             0         0   \n",
       "3             0             0             0             0         0   \n",
       "4             0             0             0             0         0   \n",
       "5             0             0             0             0         0   \n",
       "6             0             0             0             0         0   \n",
       "7             0             0             0             0         0   \n",
       "8             0             0             0             0         0   \n",
       "9             0             0             0             0         0   \n",
       "\n",
       "   Z_CostContact  Z_Revenue  Response  \n",
       "0              3         11         1  \n",
       "1              3         11         0  \n",
       "2              3         11         0  \n",
       "3              3         11         0  \n",
       "4              3         11         0  \n",
       "5              3         11         0  \n",
       "6              3         11         0  \n",
       "7              3         11         0  \n",
       "8              3         11         1  \n",
       "9              3         11         0  \n",
       "\n",
       "[10 rows x 29 columns]"
      ]
     },
     "execution_count": 269,
     "metadata": {},
     "output_type": "execute_result"
    }
   ],
   "source": [
    "#Checking the data\n",
    "m_sales.head(10)"
   ]
  },
  {
   "cell_type": "code",
   "execution_count": 270,
   "id": "3f94bf00",
   "metadata": {},
   "outputs": [
    {
     "data": {
      "text/plain": [
       "Index(['ID', 'Year_Birth', 'Education', 'Marital_Status', 'Income', 'Kidhome',\n",
       "       'Teenhome', 'Dt_Customer', 'Recency', 'MntWines', 'MntFruits',\n",
       "       'MntMeatProducts', 'MntFishProducts', 'MntSweetProducts',\n",
       "       'MntGoldProds', 'NumDealsPurchases', 'NumWebPurchases',\n",
       "       'NumCatalogPurchases', 'NumStorePurchases', 'NumWebVisitsMonth',\n",
       "       'AcceptedCmp3', 'AcceptedCmp4', 'AcceptedCmp5', 'AcceptedCmp1',\n",
       "       'AcceptedCmp2', 'Complain', 'Z_CostContact', 'Z_Revenue', 'Response'],\n",
       "      dtype='object')"
      ]
     },
     "execution_count": 270,
     "metadata": {},
     "output_type": "execute_result"
    }
   ],
   "source": [
    "#Checking the columns\n",
    "m_sales.columns"
   ]
  },
  {
   "cell_type": "code",
   "execution_count": 271,
   "id": "e45119e0",
   "metadata": {},
   "outputs": [],
   "source": [
    "#Creating dataframe\n",
    "df = pd.DataFrame(m_sales)"
   ]
  },
  {
   "cell_type": "code",
   "execution_count": 272,
   "id": "edd18ead",
   "metadata": {},
   "outputs": [],
   "source": [
    "#Dropping the unwanted columns\n",
    "sales_df=df.drop(columns=['AcceptedCmp3','AcceptedCmp4','AcceptedCmp5','AcceptedCmp1','AcceptedCmp2','Z_CostContact','Z_Revenue'])"
   ]
  },
  {
   "cell_type": "code",
   "execution_count": 273,
   "id": "5695b049",
   "metadata": {},
   "outputs": [
    {
     "name": "stdout",
     "output_type": "stream",
     "text": [
      "         ID  Year_Birth   Education Marital_Status   Income  Kidhome  \\\n",
      "0      5524        1957  Graduation         Single  58138.0        0   \n",
      "1      2174        1954  Graduation         Single  46344.0        1   \n",
      "2      4141        1965  Graduation       Together  71613.0        0   \n",
      "3      6182        1984  Graduation       Together  26646.0        1   \n",
      "4      5324        1981         PhD        Married  58293.0        1   \n",
      "...     ...         ...         ...            ...      ...      ...   \n",
      "2235  10870        1967  Graduation        Married  61223.0        0   \n",
      "2236   4001        1946         PhD       Together  64014.0        2   \n",
      "2237   7270        1981  Graduation       Divorced  56981.0        0   \n",
      "2238   8235        1956      Master       Together  69245.0        0   \n",
      "2239   9405        1954         PhD        Married  52869.0        1   \n",
      "\n",
      "      Teenhome Dt_Customer  Recency  MntWines  ...  MntFishProducts  \\\n",
      "0            0  2012-09-04       58       635  ...              172   \n",
      "1            1  2014-03-08       38        11  ...                2   \n",
      "2            0  2013-08-21       26       426  ...              111   \n",
      "3            0  2014-02-10       26        11  ...               10   \n",
      "4            0  2014-01-19       94       173  ...               46   \n",
      "...        ...         ...      ...       ...  ...              ...   \n",
      "2235         1  2013-06-13       46       709  ...               42   \n",
      "2236         1  2014-06-10       56       406  ...                0   \n",
      "2237         0  2014-01-25       91       908  ...               32   \n",
      "2238         1  2014-01-24        8       428  ...               80   \n",
      "2239         1  2012-10-15       40        84  ...                2   \n",
      "\n",
      "      MntSweetProducts  MntGoldProds  NumDealsPurchases  NumWebPurchases  \\\n",
      "0                   88            88                  3                8   \n",
      "1                    1             6                  2                1   \n",
      "2                   21            42                  1                8   \n",
      "3                    3             5                  2                2   \n",
      "4                   27            15                  5                5   \n",
      "...                ...           ...                ...              ...   \n",
      "2235               118           247                  2                9   \n",
      "2236                 0             8                  7                8   \n",
      "2237                12            24                  1                2   \n",
      "2238                30            61                  2                6   \n",
      "2239                 1            21                  3                3   \n",
      "\n",
      "      NumCatalogPurchases  NumStorePurchases  NumWebVisitsMonth  Complain  \\\n",
      "0                      10                  4                  7         0   \n",
      "1                       1                  2                  5         0   \n",
      "2                       2                 10                  4         0   \n",
      "3                       0                  4                  6         0   \n",
      "4                       3                  6                  5         0   \n",
      "...                   ...                ...                ...       ...   \n",
      "2235                    3                  4                  5         0   \n",
      "2236                    2                  5                  7         0   \n",
      "2237                    3                 13                  6         0   \n",
      "2238                    5                 10                  3         0   \n",
      "2239                    1                  4                  7         0   \n",
      "\n",
      "      Response  \n",
      "0            1  \n",
      "1            0  \n",
      "2            0  \n",
      "3            0  \n",
      "4            0  \n",
      "...        ...  \n",
      "2235         0  \n",
      "2236         0  \n",
      "2237         0  \n",
      "2238         0  \n",
      "2239         1  \n",
      "\n",
      "[2240 rows x 22 columns]\n"
     ]
    }
   ],
   "source": [
    "#Printing the new dataframe\n",
    "print(sales_df)"
   ]
  },
  {
   "cell_type": "code",
   "execution_count": 274,
   "id": "fa601ed2",
   "metadata": {},
   "outputs": [
    {
     "data": {
      "text/plain": [
       "ID                       int64\n",
       "Year_Birth               int64\n",
       "Education               object\n",
       "Marital_Status          object\n",
       "Income                 float64\n",
       "Kidhome                  int64\n",
       "Teenhome                 int64\n",
       "Dt_Customer             object\n",
       "Recency                  int64\n",
       "MntWines                 int64\n",
       "MntFruits                int64\n",
       "MntMeatProducts          int64\n",
       "MntFishProducts          int64\n",
       "MntSweetProducts         int64\n",
       "MntGoldProds             int64\n",
       "NumDealsPurchases        int64\n",
       "NumWebPurchases          int64\n",
       "NumCatalogPurchases      int64\n",
       "NumStorePurchases        int64\n",
       "NumWebVisitsMonth        int64\n",
       "Complain                 int64\n",
       "Response                 int64\n",
       "dtype: object"
      ]
     },
     "execution_count": 274,
     "metadata": {},
     "output_type": "execute_result"
    }
   ],
   "source": [
    "#Data types\n",
    "sales_df.dtypes"
   ]
  },
  {
   "cell_type": "code",
   "execution_count": 275,
   "id": "3acfb389",
   "metadata": {},
   "outputs": [],
   "source": [
    "#Education\n",
    "value_mapping = {'Graduation': 1, 'PhD': 2,'Master':3, 'Basic':4,'2n Cycle':5}\n",
    "sales_df['Education'].replace(value_mapping, inplace=True)\n",
    "#print(sales_df)"
   ]
  },
  {
   "cell_type": "code",
   "execution_count": 276,
   "id": "4e68c91d",
   "metadata": {},
   "outputs": [],
   "source": [
    "#Marital_Status  \n",
    "value_mapping_2 = {'Single':1, 'Together':2, 'Married':3, 'Divorced':4, 'Widow':5, 'Alone':6, 'Absurd':7, 'YOLO':8}\n",
    "sales_df['Marital_Status'].replace(value_mapping_2, inplace=True)"
   ]
  },
  {
   "cell_type": "code",
   "execution_count": 277,
   "id": "c4bbae67",
   "metadata": {},
   "outputs": [],
   "source": [
    "#sales_df['Dt_Customer'] = sales_df['Dt_Customer'].astype(float)\n",
    "sales_df['Dt_Customer'] = pd.to_datetime(sales_df['Dt_Customer'])"
   ]
  },
  {
   "cell_type": "code",
   "execution_count": 278,
   "id": "881ee482",
   "metadata": {},
   "outputs": [],
   "source": [
    "sales_df['Year'] = sales_df['Dt_Customer'].dt.year\n",
    "sales_df['Month'] = sales_df['Dt_Customer'].dt.month\n",
    "sales_df['Day'] = sales_df['Dt_Customer'].dt.day"
   ]
  },
  {
   "cell_type": "code",
   "execution_count": 279,
   "id": "bb9ed339",
   "metadata": {},
   "outputs": [
    {
     "name": "stdout",
     "output_type": "stream",
     "text": [
      "         ID  Year_Birth  Education  Marital_Status   Income  Kidhome  \\\n",
      "0      5524        1957          1               1  58138.0        0   \n",
      "1      2174        1954          1               1  46344.0        1   \n",
      "2      4141        1965          1               2  71613.0        0   \n",
      "3      6182        1984          1               2  26646.0        1   \n",
      "4      5324        1981          2               3  58293.0        1   \n",
      "...     ...         ...        ...             ...      ...      ...   \n",
      "2235  10870        1967          1               3  61223.0        0   \n",
      "2236   4001        1946          2               2  64014.0        2   \n",
      "2237   7270        1981          1               4  56981.0        0   \n",
      "2238   8235        1956          3               2  69245.0        0   \n",
      "2239   9405        1954          2               3  52869.0        1   \n",
      "\n",
      "      Teenhome Dt_Customer  Recency  MntWines  ...  NumDealsPurchases  \\\n",
      "0            0  2012-09-04       58       635  ...                  3   \n",
      "1            1  2014-03-08       38        11  ...                  2   \n",
      "2            0  2013-08-21       26       426  ...                  1   \n",
      "3            0  2014-02-10       26        11  ...                  2   \n",
      "4            0  2014-01-19       94       173  ...                  5   \n",
      "...        ...         ...      ...       ...  ...                ...   \n",
      "2235         1  2013-06-13       46       709  ...                  2   \n",
      "2236         1  2014-06-10       56       406  ...                  7   \n",
      "2237         0  2014-01-25       91       908  ...                  1   \n",
      "2238         1  2014-01-24        8       428  ...                  2   \n",
      "2239         1  2012-10-15       40        84  ...                  3   \n",
      "\n",
      "      NumWebPurchases  NumCatalogPurchases  NumStorePurchases  \\\n",
      "0                   8                   10                  4   \n",
      "1                   1                    1                  2   \n",
      "2                   8                    2                 10   \n",
      "3                   2                    0                  4   \n",
      "4                   5                    3                  6   \n",
      "...               ...                  ...                ...   \n",
      "2235                9                    3                  4   \n",
      "2236                8                    2                  5   \n",
      "2237                2                    3                 13   \n",
      "2238                6                    5                 10   \n",
      "2239                3                    1                  4   \n",
      "\n",
      "      NumWebVisitsMonth  Complain  Response  Year  Month  Day  \n",
      "0                     7         0         1  2012      9    4  \n",
      "1                     5         0         0  2014      3    8  \n",
      "2                     4         0         0  2013      8   21  \n",
      "3                     6         0         0  2014      2   10  \n",
      "4                     5         0         0  2014      1   19  \n",
      "...                 ...       ...       ...   ...    ...  ...  \n",
      "2235                  5         0         0  2013      6   13  \n",
      "2236                  7         0         0  2014      6   10  \n",
      "2237                  6         0         0  2014      1   25  \n",
      "2238                  3         0         0  2014      1   24  \n",
      "2239                  7         0         1  2012     10   15  \n",
      "\n",
      "[2240 rows x 25 columns]\n"
     ]
    }
   ],
   "source": [
    "print(sales_df)"
   ]
  },
  {
   "cell_type": "code",
   "execution_count": 280,
   "id": "b8f52d0e",
   "metadata": {},
   "outputs": [
    {
     "data": {
      "text/plain": [
       "ID                              int64\n",
       "Year_Birth                      int64\n",
       "Education                       int64\n",
       "Marital_Status                  int64\n",
       "Income                        float64\n",
       "Kidhome                         int64\n",
       "Teenhome                        int64\n",
       "Dt_Customer            datetime64[ns]\n",
       "Recency                         int64\n",
       "MntWines                        int64\n",
       "MntFruits                       int64\n",
       "MntMeatProducts                 int64\n",
       "MntFishProducts                 int64\n",
       "MntSweetProducts                int64\n",
       "MntGoldProds                    int64\n",
       "NumDealsPurchases               int64\n",
       "NumWebPurchases                 int64\n",
       "NumCatalogPurchases             int64\n",
       "NumStorePurchases               int64\n",
       "NumWebVisitsMonth               int64\n",
       "Complain                        int64\n",
       "Response                        int64\n",
       "Year                            int32\n",
       "Month                           int32\n",
       "Day                             int32\n",
       "dtype: object"
      ]
     },
     "execution_count": 280,
     "metadata": {},
     "output_type": "execute_result"
    }
   ],
   "source": [
    "sales_df.dtypes"
   ]
  },
  {
   "cell_type": "code",
   "execution_count": 281,
   "id": "eb0ef9b8",
   "metadata": {},
   "outputs": [
    {
     "name": "stdout",
     "output_type": "stream",
     "text": [
      "ID                     0.000000\n",
      "Year_Birth             0.000000\n",
      "Education              0.000000\n",
      "Marital_Status         0.000000\n",
      "Income                 0.010714\n",
      "Kidhome                0.000000\n",
      "Teenhome               0.000000\n",
      "Dt_Customer            0.000000\n",
      "Recency                0.000000\n",
      "MntWines               0.000000\n",
      "MntFruits              0.000000\n",
      "MntMeatProducts        0.000000\n",
      "MntFishProducts        0.000000\n",
      "MntSweetProducts       0.000000\n",
      "MntGoldProds           0.000000\n",
      "NumDealsPurchases      0.000000\n",
      "NumWebPurchases        0.000000\n",
      "NumCatalogPurchases    0.000000\n",
      "NumStorePurchases      0.000000\n",
      "NumWebVisitsMonth      0.000000\n",
      "Complain               0.000000\n",
      "Response               0.000000\n",
      "Year                   0.000000\n",
      "Month                  0.000000\n",
      "Day                    0.000000\n",
      "dtype: float64\n"
     ]
    }
   ],
   "source": [
    "#Examining missing values\n",
    "print(sales_df.isnull().mean())"
   ]
  },
  {
   "cell_type": "code",
   "execution_count": 282,
   "id": "b692d81f",
   "metadata": {},
   "outputs": [
    {
     "name": "stdout",
     "output_type": "stream",
     "text": [
      "52247.25135379061\n"
     ]
    }
   ],
   "source": [
    "#defining mean value to replace NAN\n",
    "mean_value=sales_df['Income'].mean() \n",
    "print(mean_value)"
   ]
  },
  {
   "cell_type": "code",
   "execution_count": 283,
   "id": "aa3ddf24",
   "metadata": {},
   "outputs": [
    {
     "name": "stdout",
     "output_type": "stream",
     "text": [
      "Updated Dataframe:\n",
      "         ID  Year_Birth  Education  Marital_Status   Income  Kidhome  \\\n",
      "0      5524        1957          1               1  58138.0        0   \n",
      "1      2174        1954          1               1  46344.0        1   \n",
      "2      4141        1965          1               2  71613.0        0   \n",
      "3      6182        1984          1               2  26646.0        1   \n",
      "4      5324        1981          2               3  58293.0        1   \n",
      "...     ...         ...        ...             ...      ...      ...   \n",
      "2235  10870        1967          1               3  61223.0        0   \n",
      "2236   4001        1946          2               2  64014.0        2   \n",
      "2237   7270        1981          1               4  56981.0        0   \n",
      "2238   8235        1956          3               2  69245.0        0   \n",
      "2239   9405        1954          2               3  52869.0        1   \n",
      "\n",
      "      Teenhome Dt_Customer  Recency  MntWines  ...  NumDealsPurchases  \\\n",
      "0            0  2012-09-04       58       635  ...                  3   \n",
      "1            1  2014-03-08       38        11  ...                  2   \n",
      "2            0  2013-08-21       26       426  ...                  1   \n",
      "3            0  2014-02-10       26        11  ...                  2   \n",
      "4            0  2014-01-19       94       173  ...                  5   \n",
      "...        ...         ...      ...       ...  ...                ...   \n",
      "2235         1  2013-06-13       46       709  ...                  2   \n",
      "2236         1  2014-06-10       56       406  ...                  7   \n",
      "2237         0  2014-01-25       91       908  ...                  1   \n",
      "2238         1  2014-01-24        8       428  ...                  2   \n",
      "2239         1  2012-10-15       40        84  ...                  3   \n",
      "\n",
      "      NumWebPurchases  NumCatalogPurchases  NumStorePurchases  \\\n",
      "0                   8                   10                  4   \n",
      "1                   1                    1                  2   \n",
      "2                   8                    2                 10   \n",
      "3                   2                    0                  4   \n",
      "4                   5                    3                  6   \n",
      "...               ...                  ...                ...   \n",
      "2235                9                    3                  4   \n",
      "2236                8                    2                  5   \n",
      "2237                2                    3                 13   \n",
      "2238                6                    5                 10   \n",
      "2239                3                    1                  4   \n",
      "\n",
      "      NumWebVisitsMonth  Complain  Response  Year  Month  Day  \n",
      "0                     7         0         1  2012      9    4  \n",
      "1                     5         0         0  2014      3    8  \n",
      "2                     4         0         0  2013      8   21  \n",
      "3                     6         0         0  2014      2   10  \n",
      "4                     5         0         0  2014      1   19  \n",
      "...                 ...       ...       ...   ...    ...  ...  \n",
      "2235                  5         0         0  2013      6   13  \n",
      "2236                  7         0         0  2014      6   10  \n",
      "2237                  6         0         0  2014      1   25  \n",
      "2238                  3         0         0  2014      1   24  \n",
      "2239                  7         0         1  2012     10   15  \n",
      "\n",
      "[2240 rows x 25 columns]\n"
     ]
    }
   ],
   "source": [
    "#REplacing null values with the mean value\n",
    "sales_df['Income'].fillna(value=mean_value, inplace=True) \n",
    "print('Updated Dataframe:') \n",
    "print(sales_df) "
   ]
  },
  {
   "cell_type": "code",
   "execution_count": 284,
   "id": "dcc7d365",
   "metadata": {},
   "outputs": [
    {
     "name": "stdout",
     "output_type": "stream",
     "text": [
      "ID                     0.0\n",
      "Year_Birth             0.0\n",
      "Education              0.0\n",
      "Marital_Status         0.0\n",
      "Income                 0.0\n",
      "Kidhome                0.0\n",
      "Teenhome               0.0\n",
      "Dt_Customer            0.0\n",
      "Recency                0.0\n",
      "MntWines               0.0\n",
      "MntFruits              0.0\n",
      "MntMeatProducts        0.0\n",
      "MntFishProducts        0.0\n",
      "MntSweetProducts       0.0\n",
      "MntGoldProds           0.0\n",
      "NumDealsPurchases      0.0\n",
      "NumWebPurchases        0.0\n",
      "NumCatalogPurchases    0.0\n",
      "NumStorePurchases      0.0\n",
      "NumWebVisitsMonth      0.0\n",
      "Complain               0.0\n",
      "Response               0.0\n",
      "Year                   0.0\n",
      "Month                  0.0\n",
      "Day                    0.0\n",
      "dtype: float64\n"
     ]
    }
   ],
   "source": [
    "# Re-checking if the null values have been replaced\n",
    "print(sales_df.isnull().mean())"
   ]
  },
  {
   "cell_type": "code",
   "execution_count": 285,
   "id": "a4342d77",
   "metadata": {},
   "outputs": [
    {
     "name": "stdout",
     "output_type": "stream",
     "text": [
      "ID \n",
      " [5524 2174 4141 ... 7270 8235 9405] \n",
      "\n",
      "Year_Birth \n",
      " [1957 1954 1965 1984 1981 1967 1971 1985 1974 1950 1983 1976 1959 1952\n",
      " 1987 1946 1980 1949 1982 1979 1951 1969 1986 1989 1963 1970 1973 1943\n",
      " 1975 1996 1968 1964 1977 1978 1955 1966 1988 1948 1958 1972 1960 1945\n",
      " 1991 1962 1953 1961 1956 1992 1900 1893 1990 1947 1899 1993 1994 1941\n",
      " 1944 1995 1940] \n",
      "\n",
      "Education \n",
      " [1 2 3 4 5] \n",
      "\n",
      "Marital_Status \n",
      " [1 2 3 4 5 6 7 8] \n",
      "\n",
      "Income \n",
      " [58138. 46344. 71613. ... 56981. 69245. 52869.] \n",
      "\n",
      "Kidhome \n",
      " [0 1 2] \n",
      "\n",
      "Teenhome \n",
      " [0 1 2] \n",
      "\n",
      "Dt_Customer \n",
      " <DatetimeArray>\n",
      "['2012-09-04 00:00:00', '2014-03-08 00:00:00', '2013-08-21 00:00:00',\n",
      " '2014-02-10 00:00:00', '2014-01-19 00:00:00', '2013-09-09 00:00:00',\n",
      " '2012-11-13 00:00:00', '2013-05-08 00:00:00', '2013-06-06 00:00:00',\n",
      " '2014-03-13 00:00:00',\n",
      " ...\n",
      " '2014-03-27 00:00:00', '2012-12-15 00:00:00', '2012-09-17 00:00:00',\n",
      " '2013-06-02 00:00:00', '2012-12-21 00:00:00', '2013-11-01 00:00:00',\n",
      " '2013-08-10 00:00:00', '2012-10-11 00:00:00', '2012-12-20 00:00:00',\n",
      " '2014-01-09 00:00:00']\n",
      "Length: 663, dtype: datetime64[ns] \n",
      "\n",
      "Recency \n",
      " [58 38 26 94 16 34 32 19 68 11 59 82 53 23 51 20 91 86 41 42 63  0 69 89\n",
      "  4 96 56 31  8 55 37 76 99  3 88 80 72 24 92 39 29  2 54 57 30 12 18 75\n",
      " 90  1 25 40  9 87  5 95 48 70 79 45 84 44 43 35 15 17 46 27 74 85 65 13\n",
      " 83 10 21 61 73 47 36 49 28 64 98 78 77 81 14 52 93 50 60 66 97 62  6 33\n",
      " 67 22 71  7] \n",
      "\n",
      "MntWines \n",
      " [ 635   11  426  173  520  235   76   14   28    5    6  194  233    3\n",
      " 1006   53   84 1012    4   86    1  867  384  270   36  684    8  112\n",
      "  110   96  482   40  702   55  437  421   13    9   81  123   48  826\n",
      "  245  650   12  510  328  984  295  447  712  452  523  546  398   10\n",
      "  688  247  856  496   25  258  565    2  721 1032  577   64  163   17\n",
      "  130  292  350  135  230    7  445   15   27  505   51  207   41  386\n",
      "  562  217  144  454  425 1332  527  490  378  547   47  320   34  722\n",
      "  162  450   70  352  492  120  534  236  231  220  796    0  962  738\n",
      "  399  614   32  598   73   42  346  888  997  212  536 1349 1001   20\n",
      "   18  125  277   85   59 1149  847   29  152  620   35  356  783  466\n",
      "   23  656  519  344  448  265  587  763   22   54 1170   72  613  224\n",
      "  410  239  171 1076  182  824   30  377  155  897  131  297  787  792\n",
      "  983  415  901  382  559  789 1218  925  864  960   16  168   45   24\n",
      "  918  138  554  167  177   38  483   77  778   33  625  216   68  196\n",
      "  204   26  304  285  395  248   39  777 1241   65  801  513   37   80\n",
      "  525  675  509  154  861  768  185   44   91  412  731  424   21  909\n",
      "  317  797  755  456 1103  189  495 1048   78  561  629  269  736  512\n",
      "   19  404  333  833  159  977   57 1043   43  314  571  866  594  140\n",
      "  375  102  919  610   67  416  370  407 1200  583  966  822  604 1285\n",
      "  551  800 1248  515  438   31  357  400   99  208  430  141  507  164\n",
      "  606  116  143  522  161 1239  335  639  563  746  478  451  371  281\n",
      "  213  502  691  504 1396  529  388 1047  815  225  493  127  325  238\n",
      " 1168  284 1288  227 1035  982  179 1379  881 1000  206  619  172  464\n",
      "   63  252 1478  198  458   90  308  557 1492  249  465  129  174  747\n",
      "   98  200 1050  117   56  145  203   46 1060  264  817  526   88  101\n",
      "  389  215  390 1181  603  514  387  121  965  707  586 1063  305 1009\n",
      "  315  757  219  111  100  418  327  275 1004  187  365  595 1132  372\n",
      "  899  760  260  459   92  273  434  321 1184  537  664  299  749  345\n",
      "  440  670  524  597  294  349 1126  967  432  948  307  283  769  518\n",
      "  709  359  799  895  647  301  180  794  392  107  680  324  229  521\n",
      "  184  183  479  584  627  330 1039  411  623  393  376  642  840  752\n",
      " 1279  860  351  336  191  362  724  605  104  556  408  374  600  243\n",
      " 1308  379  889  852  205  255  825  316  756  181  151  494  953  770\n",
      "  741  156  812  871  471  819  354 1253  588  480  517  267 1111 1166\n",
      "  261  711   79  115  263   69   97  197  693  186  829  318 1206  729\n",
      "  674 1023 1394  311 1296  218   66  795  244  158  223  157  397 1230\n",
      "  986   61  201  806  380  576  403  463   75  538 1315  347  192  241\n",
      "  631 1099  743  124  530 1215  444  473  288  234  251  652  938  105\n",
      "  574  160  211  391  199  516 1224  508  381   74  146  165  957  176\n",
      "  717 1067  166  714  735  342  658  457  210  441  476  364  863 1156\n",
      "  373  134 1148  108  816 1298   87  964  572  341  221  291  544  309\n",
      "  972  279  132   62  952  618  303   95  790  882  615  133  293  313\n",
      " 1142  489  630  420 1090  737  254  113  462  968   52  545  558  266\n",
      " 1074  771  202  209  779  170  491 1205  774   82  358  139  274  262\n",
      "  641  823  368  488  543  689  280  992  622  329  296  422  703 1302\n",
      "  153  290  443  846  169  460  944  553  751  406 1449 1259  896  931\n",
      "  758  539  750  306  331  811  423   60  910  332  784 1171  431   50\n",
      "  532   71  268  928  733 1252  754  322  739 1083 1016  548  836  109\n",
      " 1459  340  298  980 1003  593  446  726  690  667  621  612  582  940\n",
      "  979  704  533 1073  560  136  708  312 1493  178   93  920  653  734\n",
      "  453  531  402  503  369  367  686  941  383 1121  666 1045  128  581\n",
      "  355  175  122 1020  272  637 1017 1324 1193  353  710  256  338 1462\n",
      "  499  913  673   58  879   83  228 1092 1276  226  575   94  908  995\n",
      "  106  820  753  555  240  848  433  713  676  958 1245  835 1486 1115\n",
      "  934  830  728  188  742 1311  890  654  912   89 1013  570  626  611\n",
      "  671  366  302  580  853  428] \n",
      "\n",
      "MntFruits \n",
      " [ 88   1  49   4  43  42  65  10   0   5  16  61   2  14  22  80  17   3\n",
      " 100  12  34   8  76  11 164  18   6  50  19  37 120   9  51  35  26   7\n",
      "  40  59  36 107 111 105  23  60  46 172  81 106 194 115  44  99  90  48\n",
      "  27  33 133  58  28  21  20 162  71  66  30 189 138  29  24  32  86 114\n",
      " 153  64 134 148  47  41  84  74 129  15  98 183 147 144 104  91 163 152\n",
      "  53  68 137 190  38  70  96  25  13  83  92  73 155  54 151  85 127  63\n",
      "  45 103  69  89 181 112 159 102 123 166 142  79  39  31 178  93  97 168\n",
      " 174 122 199  62  55 101  67 117 108  57 130 161  56 124 126  75 185  72\n",
      "  87 197  82 184 160  77 140 131 132 169 193 149 143 154] \n",
      "\n",
      "MntMeatProducts \n",
      " [ 546    6  127   20  118   98  164   56   24   11  480   53   17  115\n",
      "   19   38  498   73 1725   86  102   27   25   30    3   42  801   10\n",
      "   44    5   96  471  151   14  206  536   29   50  266   15   48  317\n",
      "  125  780  550  124  432  482    8   22   28  538  134  367    1  309\n",
      "  159  487  460   43  291   65   13  925  779   64   68  424   16   37\n",
      "  568   39  192  359   26    7  447   92  183  276  690   32  271   31\n",
      "  106  292  311   21  101  812   94  133  951  110   47  189  196   33\n",
      "  590   34   12  921  232  756  132   41  141   18   90   78   57  269\n",
      "   69  387  249   49  240 1582  305  449  119  195    2  107  537   45\n",
      "  813   79  553  337  138  113  320  319   59  554  171    4  417  162\n",
      "  540  154  207  204  740    9  137  184  464  757  503  272  179  768\n",
      "  444   52  353   87  215   62   71  398   35  298  499   23   40   99\n",
      "  224  396  512  100  149  230  242  565   81  573   80  263   46   93\n",
      "  112  400  461  561  128  172  275  218  247  293  570  562  832  379\n",
      "  255  455  514  410  217  785  177  818   83  160  815  549  142  253\n",
      "   97  786   61  335   63  505   74  221   54  591  282  108  103  716\n",
      "  792  297  349  235  181   82  322  161  364  974   72   60  257  420\n",
      "  413  166  384  193   84  114  109  594   88  389  131  265  356  140\n",
      "  239  324   66  300  408   55  613  670  351  216  153   67  260  403\n",
      "  252  520  761  287  940  259  144  530  188  797  635  168  135  519\n",
      "  592   76  248  169  323  507  572  129  199  732  713  279  250  653\n",
      "  758  104  152  711  213  428  122  194  145  117  123  435  126  838\n",
      " 1622  559  178  388  278  352  201  294  501  368  597  706   77  211\n",
      "  617  341  497  360  345  372  742  689  374  314  375  223  391  898\n",
      "  348  243   91  392  522  186  446  136  212  228  470  256  747  226\n",
      "  804  476  409  156  274  774  431  929  399  845  303  116  350   89\n",
      "  267  500  569  685  354  493  405  873  674  523  890  473  704  466\n",
      "  510  238  606  790   51   58  233  227  234   75  430  407  445  651\n",
      "  708  640  545  288  165  254  733  961  130  415  333  534  491  678\n",
      "  382  176  555  334  548  842  158  411  843  369   70  147  494  864\n",
      "  750  395  731  483  329  604  425  547  915   85  913  180  280  414\n",
      "  270  121  421  946  672  611  687  622  376  155  717  209  111  231\n",
      "  528  452  459  984  205  167  694  222  139  595  601   95  422  295\n",
      "  385  120  170  724  827  377  560  219  441  469  701  465  639  625\n",
      "  315  649  575  373  214  599  143  673  363  850  342  835  936  935\n",
      "  853  558  509  442  751  693  454  462  629  981  586  163  419  241\n",
      "  697  736   36  456  397  602  273  899  816  603  203    0  754  338\n",
      "  304  157  612  208  237  175  281  401  753  185  202  654  567  746\n",
      "  932  735  197  650  264  426  535  332  490  607  380  968  174  450\n",
      "  883  849  614  286  518  749  655  495  860  631 1607  182] \n",
      "\n",
      "MntFishProducts \n",
      " [172   2 111  10  46   0  50   3   1  11 225   6  59 150  30  69  21  39\n",
      "  15  20  34  33 119 160  82 227  37  27 156  12 180 121  16 201   7  58\n",
      " 189  17  84   4  97 137 110  49  98  75  65 185  80  31  23  29 151 123\n",
      "  44  40 173  38  52  13  36  43  73  32   8  19 149 134  86 140 147 224\n",
      "  42  76  47 254  25  67  28 186 218 104 133 220  45  24 205 162  95 101\n",
      " 188  55 166 216  60 219  77  78  72 212 129  93  99 102 179  61  62 197\n",
      " 199 120 169 240  63  91 106 146  56 127 136 168  54 132  71  64 231  85\n",
      " 202  41 125  26 175 164 177 138 247 159 153  90  51 234  68 210  89 194\n",
      " 250 237 145 167  48 192 130 232 116 184 158  94 259 115 207 112 182 141\n",
      " 124 171 193 242 246  35 142 253 258 198 223   5 103 108 181  81 128 208\n",
      " 114 229] \n",
      "\n",
      "MntSweetProducts \n",
      " [ 88   1  21   3  27  42  49   2 112   5  68  13  12  16  24  38   0  32\n",
      "   6 263  66  22   8   7 178  30  10  67 167  40 120  18  14 122  82  29\n",
      "  60   4  37  15 105  65 133  28  61 132  26  98  35  51  20 103   9  72\n",
      "  89  41  71  44  33  11  91  76  17 113  19 173  23  87 176 102  48 138\n",
      " 163 124  70 172  84 149  73  92 130  25  74 114 141  54 147  45  50  46\n",
      "  97  64 118 153 189 107 128 134  36 150  78 137  34  95 156  47 194  96\n",
      " 191 192  75  62  58 129  31  57 108 123 185 121 127 125 198  43 115  80\n",
      " 106 101 110  83 160 166 136  56 116 182 148 161  69 157  55 143 169  86\n",
      " 146  59 152  77  53  39  93 151  99 144 195  63 175 145 162 187 126  85\n",
      " 109 197 165 174 196  81 139 188 142  94 262 179 100  79 111] \n",
      "\n",
      "MntGoldProds \n",
      " [ 88   6  42   5  15  14  27  23   2  13   1  16  30  45   4  28 176  39\n",
      "  48  19  99  41 362  10   0  89   3  43  22  35  36 102   7  12 174  50\n",
      "  38  32 241 109 190  40  80 169  73  17  86   9  18  51  76  34 145  53\n",
      "  75 223  11 111  81  65  79  60  72  33 120 168 172 216  58 130 124  20\n",
      " 126 116  49   8  91  57  26 141 117  25  92  54  21 192  44  66 182 181\n",
      " 152  77  70 148  24  69 146 162 131  74 135 203  52  63  61 139 122 224\n",
      " 173 218  93 142  29 233 101 157  55 107 159  78 110 125 114  68 191  95\n",
      "  37  64  46 119  90 134 108 153  84  59  31 175  85  71  47 118  83 106\n",
      " 165 163 144 147 207 151 154 115  67 242 155 249 183 170  97 227 121 205\n",
      " 112 198 177 133  94  56  82 187 171  98 129  96 166 195 231 158 123 200\n",
      " 178 149 132 210 138 262 140 100 246 196 197 199 215 127 161 180  62 128\n",
      " 291 150 232 219 137 185 160 321 143 204 245 229 248 103 247] \n",
      "\n",
      "NumDealsPurchases \n",
      " [ 3  2  1  5  4 15  7  0  6  9 12  8 10 13 11] \n",
      "\n",
      "NumWebPurchases \n",
      " [ 8  1  2  5  6  7  4  3 11  0 27 10  9 23 25] \n",
      "\n",
      "NumCatalogPurchases \n",
      " [10  1  2  0  3  4  6 28  9  5  8  7 11 22] \n",
      "\n",
      "NumStorePurchases \n",
      " [ 4  2 10  6  7  0  3  8  5 12  9 13 11  1] \n",
      "\n",
      "NumWebVisitsMonth \n",
      " [ 7  5  4  6  8  9 20  2  3  1 10  0 14 19 17 13] \n",
      "\n",
      "Complain \n",
      " [0 1] \n",
      "\n",
      "Response \n",
      " [1 0] \n",
      "\n",
      "Year \n",
      " [2012 2014 2013] \n",
      "\n",
      "Month \n",
      " [ 9  3  8  2  1 11  5  6 10 12  4  7] \n",
      "\n",
      "Day \n",
      " [ 4  8 21 10 19  9 13  6 15 24 31 28  3 23 11 18  2 27 20 22 29  1 12  5\n",
      "  7 17 14 30 25 16 26] \n",
      "\n"
     ]
    }
   ],
   "source": [
    "# Finding unique values in each column\n",
    "for i in sales_df.columns:\n",
    "    print(i,'\\n',sales_df[i].unique(),'\\n')"
   ]
  },
  {
   "cell_type": "code",
   "execution_count": 286,
   "id": "2ae008b0",
   "metadata": {},
   "outputs": [
    {
     "name": "stdout",
     "output_type": "stream",
     "text": [
      "[0, 1, 9, 13, 17, 20, 22, 24, 25, 35, 48, 49, 55, 67, 73, 75, 78, 87, 89, 92, 113, 115, 123, 125, 143, 146, 153, 158, 164, 175, 176, 178, 182, 193, 194, 195, 199, 202, 203, 213, 217, 221, 231, 232, 234, 236, 238, 241, 246, 247, 252, 254, 255, 257, 263, 269, 271, 273, 274, 286, 291, 295, 304, 309, 310, 313, 322, 326, 332, 339, 340, 347, 359, 361, 367, 368, 375, 378, 380, 387, 405, 425, 433, 437, 448, 450, 451, 453, 454, 455, 456, 460, 466, 477, 486, 492, 498, 500, 503, 520, 521, 523, 524, 528, 531, 535, 538, 544, 550, 564, 569, 574, 577, 590, 591, 606, 607, 610, 615, 618, 624, 626, 635, 640, 641, 642, 663, 675, 679, 692, 697, 701, 702, 709, 713, 716, 736, 737, 738, 749, 760, 762, 771, 773, 793, 796, 798, 800, 803, 807, 810, 819, 821, 830, 832, 833, 837, 839, 843, 849, 850, 851, 868, 873, 879, 880, 891, 895, 898, 902, 905, 907, 916, 922, 933, 938, 940, 942, 944, 945, 946, 948, 954, 955, 961, 965, 966, 967, 968, 975, 977, 979, 983, 988, 999, 1000, 1008, 1010, 1012, 1016, 1020, 1029, 1030, 1031, 1041, 1044, 1045, 1048, 1050, 1052, 1055, 1064, 1065, 1071, 1072, 1077, 1079, 1081, 1087, 1092, 1100, 1103, 1109, 1118, 1127, 1131, 1135, 1137, 1139, 1142, 1143, 1146, 1150, 1158, 1160, 1162, 1165, 1168, 1170, 1172, 1173, 1175, 1176, 1177, 1183, 1184, 1204, 1212, 1215, 1225, 1232, 1241, 1245, 1250, 1272, 1277, 1291, 1295, 1307, 1321, 1324, 1328, 1331, 1340, 1343, 1349, 1351, 1357, 1361, 1362, 1371, 1377, 1378, 1379, 1381, 1384, 1386, 1388, 1399, 1402, 1403, 1404, 1406, 1407, 1409, 1411, 1419, 1440, 1446, 1448, 1453, 1456, 1458, 1459, 1461, 1463, 1473, 1490, 1491, 1497, 1501, 1502, 1503, 1506, 1509, 1513, 1515, 1517, 1518, 1519, 1523, 1524, 1542, 1544, 1545, 1553, 1570, 1577, 1581, 1584, 1592, 1600, 1604, 1606, 1612, 1618, 1619, 1626, 1627, 1628, 1630, 1631, 1640, 1646, 1650, 1655, 1663, 1665, 1672, 1676, 1685, 1710, 1715, 1717, 1726, 1729, 1734, 1740, 1743, 1744, 1745, 1755, 1763, 1764, 1772, 1773, 1777, 1802, 1818, 1826, 1829, 1833, 1834, 1839, 1857, 1859, 1867, 1876, 1878, 1880, 1890, 1891, 1907, 1911, 1915, 1916, 1920, 1921, 1927, 1928, 1940, 1945, 1951, 1958, 1964, 1966, 1968, 1970, 1987, 1990, 1991, 1992, 1993, 1994, 1998, 2002, 2004, 2005, 2008, 2021, 2036, 2055, 2061, 2066, 2072, 2075, 2079, 2088, 2098, 2106, 2109, 2114, 2115, 2118, 2125, 2130, 2131, 2134, 2139, 2147, 2150, 2154, 2156, 2157, 2162, 2166, 2173, 2174, 2176, 2181, 2186, 2202, 2217, 2223, 2225, 2227, 2230, 2245, 2246, 2253, 2254, 2256, 2258, 2261, 2262, 2276, 2278, 2281, 2285, 2286, 2292, 2295, 2296, 2304, 2308, 2315, 2320, 2324, 2326, 2337, 2345, 2350, 2371, 2375, 2379, 2387, 2392, 2404, 2406, 2407, 2408, 2410, 2415, 2416, 2426, 2428, 2429, 2431, 2437, 2445, 2447, 2452, 2453, 2456, 2457, 2461, 2471, 2478, 2488, 2493, 2495, 2499, 2516, 2518, 2521, 2525, 2532, 2534, 2535, 2541, 2544, 2546, 2549, 2552, 2557, 2561, 2563, 2564, 2565, 2569, 2570, 2574, 2579, 2587, 2589, 2591, 2607, 2611, 2612, 2613, 2620, 2625, 2631, 2632, 2634, 2639, 2656, 2661, 2666, 2669, 2674, 2677, 2678, 2681, 2683, 2686, 2694, 2698, 2711, 2712, 2715, 2724, 2727, 2730, 2736, 2740, 2747, 2781, 2782, 2793, 2795, 2797, 2798, 2802, 2804, 2807, 2811, 2814, 2815, 2826, 2829, 2831, 2836, 2849, 2853, 2861, 2863, 2868, 2870, 2874, 2875, 2877, 2878, 2882, 2886, 2891, 2894, 2895, 2902, 2909, 2918, 2920, 2926, 2928, 2929, 2930, 2931, 2936, 2937, 2939, 2942, 2945, 2948, 2952, 2958, 2961, 2963, 2964, 2968, 2975, 2980, 2986, 2995, 3005, 3006, 3007, 3009, 3010, 3011, 3025, 3032, 3033, 3037, 3050, 3056, 3066, 3068, 3074, 3075, 3076, 3081, 3083, 3091, 3099, 3102, 3104, 3107, 3112, 3117, 3120, 3129, 3130, 3136, 3138, 3139, 3152, 3153, 3158, 3170, 3174, 3179, 3182, 3194, 3197, 3202, 3220, 3225, 3231, 3233, 3254, 3262, 3265, 3266, 3267, 3270, 3276, 3277, 3281, 3283, 3286, 3298, 3308, 3310, 3312, 3321, 3332, 3334, 3336, 3340, 3363, 3376, 3381, 3386, 3388, 3389, 3403, 3406, 3409, 3412, 3421, 3422, 3426, 3427, 3428, 3433, 3434, 3436, 3439, 3445, 3463, 3469, 3478, 3479, 3483, 3491, 3498, 3503, 3507, 3515, 3517, 3518, 3520, 3523, 3524, 3525, 3526, 3535, 3536, 3537, 3547, 3551, 3559, 3560, 3565, 3570, 3571, 3578, 3584, 3594, 3595, 3598, 3599, 3602, 3619, 3623, 3628, 3629, 3635, 3641, 3643, 3645, 3657, 3661, 3665, 3667, 3673, 3678, 3690, 3696, 3697, 3698, 3706, 3710, 3711, 3712, 3717, 3722, 3725, 3726, 3732, 3745, 3749, 3759, 3762, 3766, 3767, 3769, 3783, 3790, 3798, 3799, 3807, 3828, 3829, 3830, 3834, 3839, 3846, 3850, 3852, 3855, 3856, 3859, 3865, 3867, 3870, 3878, 3885, 3887, 3896, 3900, 3910, 3916, 3919, 3921, 3924, 3933, 3934, 3945, 3955, 3967, 3968, 3969, 3972, 3979, 4001, 4002, 4012, 4023, 4037, 4042, 4047, 4050, 4055, 4058, 4065, 4066, 4070, 4073, 4084, 4086, 4088, 4093, 4094, 4095, 4096, 4098, 4099, 4102, 4107, 4114, 4119, 4120, 4122, 4127, 4128, 4136, 4137, 4138, 4141, 4148, 4149, 4168, 4174, 4179, 4184, 4186, 4188, 4198, 4200, 4201, 4207, 4211, 4216, 4220, 4227, 4240, 4246, 4248, 4252, 4259, 4261, 4268, 4271, 4278, 4279, 4286, 4290, 4297, 4298, 4299, 4301, 4303, 4310, 4320, 4322, 4324, 4328, 4329, 4331, 4333, 4338, 4339, 4345, 4351, 4356, 4368, 4369, 4370, 4376, 4377, 4381, 4385, 4390, 4391, 4394, 4399, 4405, 4406, 4415, 4418, 4426, 4427, 4432, 4436, 4437, 4440, 4442, 4444, 4452, 4459, 4470, 4472, 4475, 4477, 4478, 4480, 4483, 4487, 4491, 4500, 4501, 4507, 4508, 4518, 4530, 4541, 4543, 4547, 4548, 4550, 4552, 4554, 4557, 4580, 4587, 4597, 4599, 4603, 4607, 4608, 4609, 4611, 4619, 4637, 4640, 4643, 4646, 4653, 4654, 4656, 4669, 4673, 4676, 4679, 4682, 4686, 4687, 4690, 4692, 4697, 4698, 4702, 4706, 4712, 4713, 4725, 4741, 4743, 4749, 4754, 4756, 4764, 4767, 4769, 4785, 4786, 4789, 4790, 4791, 4796, 4808, 4817, 4827, 4828, 4832, 4837, 4838, 4843, 4855, 4856, 4860, 4864, 4865, 4867, 4877, 4887, 4910, 4915, 4927, 4931, 4937, 4939, 4943, 4944, 4945, 4947, 4954, 4961, 4964, 4967, 4971, 4973, 4974, 4988, 4990, 4992, 4994, 4998, 5010, 5011, 5012, 5015, 5025, 5029, 5031, 5036, 5043, 5046, 5048, 5049, 5057, 5062, 5063, 5067, 5068, 5074, 5077, 5079, 5080, 5081, 5084, 5092, 5093, 5107, 5113, 5114, 5117, 5120, 5121, 5123, 5125, 5136, 5138, 5140, 5147, 5150, 5153, 5154, 5156, 5172, 5176, 5177, 5180, 5181, 5184, 5185, 5186, 5204, 5207, 5209, 5221, 5223, 5229, 5231, 5232, 5234, 5236, 5237, 5247, 5250, 5252, 5253, 5255, 5263, 5267, 5268, 5272, 5278, 5283, 5286, 5287, 5289, 5290, 5294, 5299, 5300, 5302, 5303, 5304, 5313, 5314, 5316, 5320, 5324, 5329, 5331, 5332, 5336, 5341, 5342, 5346, 5350, 5370, 5371, 5376, 5386, 5389, 5393, 5394, 5396, 5407, 5423, 5424, 5429, 5430, 5441, 5453, 5454, 5455, 5462, 5474, 5491, 5493, 5510, 5512, 5513, 5517, 5519, 5524, 5527, 5529, 5534, 5536, 5538, 5543, 5544, 5545, 5547, 5552, 5555, 5558, 5562, 5564, 5577, 5585, 5589, 5596, 5602, 5610, 5621, 5623, 5626, 5628, 5631, 5633, 5636, 5642, 5644, 5654, 5667, 5675, 5680, 5682, 5684, 5687, 5692, 5710, 5718, 5721, 5723, 5726, 5731, 5734, 5735, 5740, 5748, 5751, 5756, 5758, 5763, 5782, 5788, 5790, 5794, 5796, 5798, 5802, 5823, 5824, 5827, 5830, 5831, 5832, 5835, 5837, 5841, 5846, 5847, 5848, 5863, 5866, 5868, 5871, 5872, 5883, 5885, 5892, 5896, 5899, 5907, 5909, 5922, 5929, 5935, 5939, 5948, 5954, 5955, 5956, 5959, 5961, 5966, 5967, 5975, 5985, 5987, 5989, 5991, 5995, 6001, 6019, 6024, 6036, 6049, 6050, 6055, 6059, 6071, 6072, 6086, 6097, 6103, 6116, 6119, 6131, 6141, 6142, 6147, 6168, 6173, 6177, 6181, 6182, 6183, 6184, 6197, 6200, 6201, 6202, 6203, 6205, 6211, 6214, 6215, 6218, 6222, 6230, 6233, 6237, 6245, 6246, 6248, 6250, 6255, 6257, 6260, 6261, 6262, 6263, 6271, 6274, 6281, 6283, 6287, 6289, 6292, 6295, 6299, 6303, 6310, 6312, 6318, 6320, 6327, 6336, 6340, 6343, 6347, 6349, 6354, 6355, 6357, 6365, 6374, 6376, 6379, 6382, 6383, 6384, 6387, 6398, 6404, 6406, 6409, 6417, 6421, 6422, 6424, 6428, 6431, 6437, 6439, 6445, 6457, 6460, 6461, 6466, 6471, 6488, 6497, 6504, 6507, 6515, 6516, 6518, 6521, 6528, 6534, 6543, 6544, 6565, 6566, 6568, 6575, 6583, 6605, 6606, 6609, 6613, 6616, 6619, 6634, 6637, 6642, 6646, 6652, 6653, 6658, 6661, 6663, 6673, 6678, 6679, 6682, 6690, 6694, 6710, 6715, 6720, 6721, 6722, 6728, 6729, 6730, 6742, 6749, 6768, 6770, 6798, 6810, 6815, 6818, 6825, 6853, 6856, 6859, 6862, 6864, 6866, 6870, 6872, 6875, 6878, 6885, 6887, 6892, 6905, 6906, 6912, 6918, 6919, 6927, 6931, 6932, 6935, 6940, 6941, 6945, 6950, 6958, 6961, 6963, 6969, 6974, 6977, 6982, 6983, 6988, 6991, 6999, 7000, 7002, 7004, 7005, 7007, 7010, 7011, 7019, 7022, 7023, 7030, 7034, 7037, 7042, 7053, 7055, 7059, 7072, 7079, 7093, 7094, 7101, 7106, 7108, 7118, 7119, 7124, 7128, 7129, 7141, 7143, 7152, 7165, 7181, 7186, 7187, 7192, 7196, 7212, 7214, 7215, 7224, 7230, 7232, 7233, 7235, 7244, 7247, 7250, 7254, 7261, 7264, 7270, 7274, 7275, 7279, 7281, 7284, 7286, 7290, 7297, 7300, 7301, 7313, 7321, 7325, 7326, 7327, 7342, 7348, 7349, 7352, 7366, 7369, 7373, 7375, 7378, 7381, 7384, 7386, 7393, 7396, 7397, 7408, 7409, 7411, 7414, 7419, 7422, 7426, 7428, 7431, 7433, 7437, 7441, 7444, 7446, 7451, 7453, 7458, 7462, 7476, 7485, 7488, 7494, 7495, 7500, 7503, 7505, 7514, 7516, 7521, 7527, 7530, 7532, 7533, 7540, 7573, 7574, 7592, 7600, 7610, 7613, 7617, 7620, 7627, 7628, 7629, 7631, 7646, 7660, 7679, 7683, 7685, 7698, 7699, 7706, 7712, 7718, 7723, 7725, 7732, 7734, 7736, 7755, 7761, 7786, 7787, 7788, 7789, 7791, 7793, 7798, 7801, 7807, 7822, 7828, 7829, 7832, 7842, 7848, 7849, 7851, 7861, 7872, 7873, 7875, 7881, 7892, 7899, 7901, 7912, 7919, 7922, 7930, 7937, 7938, 7943, 7947, 7959, 7960, 7962, 7966, 7972, 7987, 7990, 7998, 7999, 8008, 8015, 8017, 8026, 8029, 8036, 8041, 8070, 8079, 8080, 8082, 8086, 8091, 8093, 8104, 8132, 8135, 8140, 8143, 8146, 8147, 8148, 8151, 8159, 8162, 8164, 8175, 8180, 8181, 8182, 8204, 8207, 8210, 8212, 8213, 8216, 8230, 8233, 8234, 8235, 8254, 8268, 8275, 8278, 8286, 8299, 8310, 8312, 8314, 8315, 8318, 8334, 8341, 8346, 8360, 8362, 8369, 8370, 8372, 8373, 8375, 8387, 8395, 8397, 8402, 8405, 8414, 8416, 8418, 8420, 8427, 8430, 8432, 8439, 8442, 8443, 8461, 8462, 8475, 8477, 8486, 8492, 8504, 8514, 8523, 8524, 8527, 8534, 8537, 8541, 8545, 8553, 8557, 8560, 8562, 8566, 8581, 8584, 8588, 8594, 8595, 8601, 8602, 8605, 8614, 8619, 8624, 8625, 8629, 8643, 8650, 8652, 8659, 8663, 8685, 8686, 8687, 8690, 8692, 8700, 8702, 8707, 8717, 8720, 8722, 8724, 8726, 8727, 8732, 8737, 8746, 8749, 8754, 8755, 8773, 8775, 8779, 8780, 8783, 8786, 8789, 8799, 8800, 8805, 8812, 8825, 8832, 8842, 8852, 8858, 8867, 8870, 8876, 8890, 8895, 8897, 8908, 8910, 8911, 8916, 8920, 8923, 8925, 8931, 8932, 8933, 8939, 8945, 8952, 8953, 8955, 8957, 8962, 8969, 8970, 8975, 8977, 8985, 8996, 9010, 9014, 9029, 9058, 9064, 9076, 9080, 9081, 9094, 9097, 9119, 9120, 9121, 9135, 9140, 9145, 9150, 9153, 9166, 9167, 9185, 9197, 9204, 9206, 9209, 9212, 9213, 9214, 9215, 9216, 9220, 9224, 9235, 9239, 9240, 9242, 9246, 9256, 9260, 9262, 9264, 9265, 9274, 9283, 9284, 9286, 9289, 9291, 9292, 9298, 9303, 9305, 9308, 9316, 9323, 9336, 9347, 9349, 9353, 9360, 9362, 9365, 9369, 9370, 9381, 9384, 9386, 9392, 9396, 9400, 9405, 9422, 9423, 9426, 9432, 9449, 9451, 9460, 9463, 9467, 9477, 9478, 9481, 9483, 9485, 9491, 9493, 9495, 9499, 9500, 9503, 9504, 9507, 9516, 9523, 9529, 9530, 9543, 9553, 9559, 9560, 9576, 9579, 9589, 9592, 9595, 9596, 9597, 9606, 9612, 9617, 9624, 9635, 9645, 9648, 9653, 9665, 9668, 9671, 9672, 9687, 9697, 9699, 9701, 9703, 9706, 9707, 9710, 9723, 9725, 9727, 9729, 9733, 9736, 9738, 9739, 9743, 9750, 9757, 9760, 9771, 9780, 9790, 9797, 9799, 9805, 9817, 9826, 9829, 9847, 9850, 9855, 9860, 9862, 9888, 9904, 9905, 9907, 9909, 9916, 9923, 9925, 9930, 9931, 9937, 9938, 9940, 9949, 9952, 9955, 9958, 9960, 9964, 9967, 9970, 9971, 9972, 9973, 9974, 9977, 9984, 9986, 9988, 9999, 10001, 10010, 10022, 10031, 10032, 10033, 10037, 10057, 10061, 10065, 10067, 10069, 10084, 10089, 10091, 10092, 10095, 10099, 10102, 10104, 10120, 10127, 10128, 10129, 10133, 10140, 10141, 10142, 10144, 10146, 10150, 10151, 10156, 10157, 10159, 10160, 10163, 10164, 10172, 10175, 10176, 10177, 10196, 10203, 10207, 10212, 10219, 10232, 10236, 10240, 10241, 10242, 10245, 10250, 10258, 10260, 10262, 10264, 10270, 10277, 10281, 10286, 10299, 10304, 10307, 10311, 10313, 10314, 10319, 10323, 10339, 10340, 10341, 10343, 10350, 10352, 10356, 10364, 10377, 10379, 10380, 10381, 10383, 10390, 10394, 10395, 10398, 10401, 10402, 10403, 10413, 10420, 10424, 10430, 10432, 10446, 10448, 10451, 10466, 10469, 10470, 10473, 10475, 10476, 10477, 10478, 10479, 10486, 10489, 10490, 10492, 10500, 10505, 10507, 10509, 10513, 10521, 10524, 10525, 10530, 10536, 10542, 10548, 10552, 10556, 10560, 10562, 10573, 10581, 10582, 10584, 10590, 10591, 10595, 10598, 10602, 10609, 10613, 10617, 10619, 10623, 10629, 10634, 10637, 10640, 10641, 10642, 10643, 10648, 10652, 10659, 10660, 10664, 10669, 10673, 10675, 10676, 10678, 10680, 10681, 10686, 10691, 10699, 10701, 10702, 10703, 10704, 10708, 10710, 10711, 10722, 10727, 10735, 10736, 10738, 10741, 10742, 10749, 10755, 10757, 10766, 10767, 10770, 10779, 10785, 10789, 10790, 10795, 10796, 10812, 10814, 10821, 10826, 10827, 10832, 10833, 10837, 10839, 10841, 10846, 10854, 10855, 10856, 10858, 10862, 10868, 10870, 10872, 10882, 10888, 10897, 10905, 10906, 10909, 10913, 10914, 10925, 10928, 10936, 10949, 10951, 10955, 10965, 10967, 10968, 10971, 10972, 10981, 10983, 10991, 10992, 10995, 11003, 11004, 11007, 11010, 11013, 11025, 11030, 11031, 11039, 11051, 11056, 11071, 11074, 11075, 11084, 11086, 11088, 11091, 11092, 11096, 11100, 11101, 11110, 11112, 11114, 11121, 11133, 11148, 11166, 11171, 11176, 11178, 11181, 11187, 11188, 11191]\n"
     ]
    }
   ],
   "source": [
    "#Manually checking the 'ID' col\n",
    "list_ID =list(sales_df['ID'].unique())\n",
    "list_ID.sort()\n",
    "print(list_ID)"
   ]
  },
  {
   "cell_type": "code",
   "execution_count": 287,
   "id": "96466e20",
   "metadata": {},
   "outputs": [
    {
     "name": "stdout",
     "output_type": "stream",
     "text": [
      "[1730.0, 2447.0, 3502.0, 4023.0, 4428.0, 4861.0, 5305.0, 5648.0, 6560.0, 6835.0, 7144.0, 7500.0, 8028.0, 8820.0, 8940.0, 9255.0, 9548.0, 9722.0, 10245.0, 10404.0, 10979.0, 11012.0, 11448.0, 12393.0, 12571.0, 13084.0, 13260.0, 13533.0, 13624.0, 13672.0, 13724.0, 14045.0, 14188.0, 14421.0, 14515.0, 14661.0, 14796.0, 14849.0, 14906.0, 14918.0, 15033.0, 15038.0, 15056.0, 15072.0, 15253.0, 15287.0, 15315.0, 15345.0, 15716.0, 15759.0, 15862.0, 16005.0, 16014.0, 16185.0, 16248.0, 16269.0, 16529.0, 16531.0, 16581.0, 16626.0, 16653.0, 16813.0, 16860.0, 16927.0, 17003.0, 17117.0, 17144.0, 17148.0, 17256.0, 17323.0, 17345.0, 17459.0, 17487.0, 17649.0, 17688.0, 18100.0, 18169.0, 18222.0, 18227.0, 18351.0, 18358.0, 18393.0, 18492.0, 18589.0, 18690.0, 18701.0, 18746.0, 18793.0, 18890.0, 18929.0, 18978.0, 18988.0, 19107.0, 19329.0, 19346.0, 19414.0, 19419.0, 19444.0, 19485.0, 19510.0, 19514.0, 19656.0, 19740.0, 19789.0, 19986.0, 20130.0, 20180.0, 20193.0, 20194.0, 20425.0, 20427.0, 20491.0, 20518.0, 20559.0, 20587.0, 20895.0, 20981.0, 21024.0, 21059.0, 21063.0, 21255.0, 21282.0, 21355.0, 21359.0, 21474.0, 21645.0, 21675.0, 21840.0, 21846.0, 21888.0, 21918.0, 21955.0, 21994.0, 22010.0, 22063.0, 22070.0, 22108.0, 22123.0, 22148.0, 22212.0, 22263.0, 22280.0, 22304.0, 22327.0, 22390.0, 22419.0, 22434.0, 22448.0, 22507.0, 22518.0, 22554.0, 22574.0, 22585.0, 22634.0, 22669.0, 22682.0, 22701.0, 22775.0, 22804.0, 22944.0, 22979.0, 23091.0, 23148.0, 23162.0, 23228.0, 23272.0, 23295.0, 23331.0, 23442.0, 23477.0, 23478.0, 23529.0, 23536.0, 23539.0, 23559.0, 23616.0, 23626.0, 23661.0, 23718.0, 23724.0, 23748.0, 23763.0, 23830.0, 23910.0, 23957.0, 23976.0, 24027.0, 24072.0, 24163.0, 24206.0, 24221.0, 24279.0, 24336.0, 24367.0, 24401.0, 24434.0, 24480.0, 24570.0, 24594.0, 24639.0, 24645.0, 24683.0, 24711.0, 24762.0, 24882.0, 24884.0, 25008.0, 25130.0, 25176.0, 25224.0, 25252.0, 25271.0, 25293.0, 25315.0, 25358.0, 25410.0, 25443.0, 25509.0, 25545.0, 25707.0, 25721.0, 25804.0, 25818.0, 25851.0, 25930.0, 25959.0, 25965.0, 26067.0, 26091.0, 26095.0, 26150.0, 26224.0, 26228.0, 26290.0, 26304.0, 26326.0, 26487.0, 26490.0, 26518.0, 26576.0, 26642.0, 26646.0, 26751.0, 26759.0, 26816.0, 26850.0, 26868.0, 26872.0, 26877.0, 26887.0, 26907.0, 26954.0, 26997.0, 27038.0, 27071.0, 27100.0, 27116.0, 27159.0, 27161.0, 27190.0, 27203.0, 27213.0, 27215.0, 27238.0, 27242.0, 27244.0, 27255.0, 27421.0, 27450.0, 27469.0, 27573.0, 27590.0, 27683.0, 27733.0, 27803.0, 27889.0, 27922.0, 27938.0, 27943.0, 28071.0, 28072.0, 28087.0, 28164.0, 28249.0, 28320.0, 28332.0, 28359.0, 28389.0, 28420.0, 28427.0, 28440.0, 28442.0, 28457.0, 28510.0, 28520.0, 28567.0, 28587.0, 28647.0, 28691.0, 28718.0, 28764.0, 28769.0, 28839.0, 28973.0, 29009.0, 29103.0, 29187.0, 29236.0, 29298.0, 29315.0, 29435.0, 29440.0, 29478.0, 29543.0, 29548.0, 29604.0, 29672.0, 29732.0, 29760.0, 29791.0, 29819.0, 29938.0, 29999.0, 30015.0, 30023.0, 30081.0, 30093.0, 30096.0, 30168.0, 30261.0, 30279.0, 30298.0, 30351.0, 30368.0, 30372.0, 30390.0, 30396.0, 30467.0, 30477.0, 30507.0, 30522.0, 30523.0, 30538.0, 30545.0, 30560.0, 30630.0, 30631.0, 30675.0, 30732.0, 30753.0, 30772.0, 30801.0, 30822.0, 30828.0, 30833.0, 30843.0, 30899.0, 30983.0, 30992.0, 31056.0, 31086.0, 31089.0, 31158.0, 31160.0, 31163.0, 31353.0, 31385.0, 31395.0, 31454.0, 31497.0, 31535.0, 31560.0, 31590.0, 31605.0, 31615.0, 31626.0, 31632.0, 31686.0, 31761.0, 31788.0, 31814.0, 31859.0, 31878.0, 31880.0, 31907.0, 31928.0, 32011.0, 32144.0, 32146.0, 32173.0, 32218.0, 32233.0, 32300.0, 32303.0, 32313.0, 32414.0, 32474.0, 32557.0, 32583.0, 32632.0, 32644.0, 32727.0, 32765.0, 32871.0, 32880.0, 32889.0, 32892.0, 32952.0, 33039.0, 33051.0, 33168.0, 33178.0, 33181.0, 33183.0, 33228.0, 33235.0, 33249.0, 33279.0, 33316.0, 33378.0, 33402.0, 33419.0, 33438.0, 33444.0, 33454.0, 33456.0, 33462.0, 33471.0, 33562.0, 33564.0, 33569.0, 33581.0, 33585.0, 33590.0, 33622.0, 33629.0, 33697.0, 33762.0, 33812.0, 33955.0, 33986.0, 33996.0, 34026.0, 34043.0, 34053.0, 34074.0, 34109.0, 34176.0, 34213.0, 34230.0, 34242.0, 34320.0, 34350.0, 34377.0, 34380.0, 34412.0, 34421.0, 34445.0, 34469.0, 34487.0, 34529.0, 34554.0, 34578.0, 34587.0, 34596.0, 34600.0, 34633.0, 34704.0, 34728.0, 34738.0, 34824.0, 34838.0, 34853.0, 34916.0, 34935.0, 34941.0, 34961.0, 34968.0, 34984.0, 35178.0, 35196.0, 35246.0, 35322.0, 35340.0, 35388.0, 35416.0, 35441.0, 35523.0, 35544.0, 35641.0, 35682.0, 35684.0, 35688.0, 35701.0, 35704.0, 35765.0, 35788.0, 35790.0, 35791.0, 35797.0, 35860.0, 35876.0, 35893.0, 35924.0, 35946.0, 36026.0, 36038.0, 36065.0, 36075.0, 36108.0, 36130.0, 36138.0, 36143.0, 36145.0, 36230.0, 36262.0, 36273.0, 36283.0, 36301.0, 36317.0, 36408.0, 36443.0, 36550.0, 36627.0, 36634.0, 36640.0, 36663.0, 36715.0, 36732.0, 36736.0, 36778.0, 36781.0, 36790.0, 36802.0, 36807.0, 36864.0, 36921.0, 36927.0, 36930.0, 36947.0, 36957.0, 36959.0, 36975.0, 36997.0, 37040.0, 37054.0, 37070.0, 37085.0, 37087.0, 37126.0, 37150.0, 37155.0, 37235.0, 37244.0, 37284.0, 37292.0, 37334.0, 37368.0, 37395.0, 37401.0, 37406.0, 37509.0, 37633.0, 37697.0, 37716.0, 37717.0, 37758.0, 37760.0, 37774.0, 37787.0, 37859.0, 37929.0, 37971.0, 38054.0, 38097.0, 38136.0, 38175.0, 38179.0, 38196.0, 38197.0, 38200.0, 38201.0, 38232.0, 38236.0, 38285.0, 38360.0, 38361.0, 38410.0, 38415.0, 38443.0, 38452.0, 38508.0, 38513.0, 38547.0, 38557.0, 38576.0, 38578.0, 38590.0, 38593.0, 38620.0, 38643.0, 38680.0, 38683.0, 38702.0, 38725.0, 38741.0, 38808.0, 38823.0, 38829.0, 38853.0, 38872.0, 38887.0, 38946.0, 38961.0, 38988.0, 38998.0, 39062.0, 39146.0, 39190.0, 39228.0, 39356.0, 39435.0, 39453.0, 39548.0, 39552.0, 39660.0, 39665.0, 39684.0, 39722.0, 39747.0, 39763.0, 39767.0, 39771.0, 39791.0, 39858.0, 39898.0, 39922.0, 39996.0, 40049.0, 40059.0, 40101.0, 40211.0, 40233.0, 40246.0, 40304.0, 40321.0, 40344.0, 40442.0, 40451.0, 40464.0, 40479.0, 40521.0, 40548.0, 40590.0, 40637.0, 40662.0, 40689.0, 40706.0, 40737.0, 40760.0, 40780.0, 40794.0, 40800.0, 40851.0, 40887.0, 41003.0, 41014.0, 41020.0, 41021.0, 41039.0, 41120.0, 41124.0, 41145.0, 41154.0, 41275.0, 41335.0, 41411.0, 41437.0, 41443.0, 41452.0, 41473.0, 41551.0, 41580.0, 41638.0, 41644.0, 41658.0, 41713.0, 41728.0, 41769.0, 41850.0, 41883.0, 41967.0, 41986.0, 42000.0, 42011.0, 42014.0, 42021.0, 42033.0, 42081.0, 42160.0, 42162.0, 42169.0, 42192.0, 42207.0, 42213.0, 42231.0, 42243.0, 42315.0, 42373.0, 42386.0, 42387.0, 42394.0, 42395.0, 42403.0, 42429.0, 42473.0, 42523.0, 42554.0, 42557.0, 42564.0, 42586.0, 42607.0, 42618.0, 42664.0, 42670.0, 42691.0, 42693.0, 42710.0, 42720.0, 42731.0, 42767.0, 42769.0, 42835.0, 42873.0, 42997.0, 43018.0, 43020.0, 43050.0, 43057.0, 43140.0, 43142.0, 43185.0, 43263.0, 43269.0, 43300.0, 43322.0, 43456.0, 43462.0, 43482.0, 43586.0, 43602.0, 43638.0, 43641.0, 43776.0, 43783.0, 43795.0, 43815.0, 43824.0, 43974.0, 44010.0, 44051.0, 44078.0, 44124.0, 44155.0, 44159.0, 44213.0, 44267.0, 44300.0, 44319.0, 44322.0, 44325.0, 44359.0, 44375.0, 44377.0, 44392.0, 44393.0, 44421.0, 44503.0, 44511.0, 44512.0, 44529.0, 44551.0, 44602.0, 44635.0, 44689.0, 44794.0, 44802.0, 44911.0, 44931.0, 44953.0, 44964.0, 44989.0, 45006.0, 45057.0, 45068.0, 45072.0, 45143.0, 45146.0, 45160.0, 45183.0, 45203.0, 45204.0, 45207.0, 45503.0, 45576.0, 45579.0, 45684.0, 45688.0, 45736.0, 45759.0, 45837.0, 45889.0, 45894.0, 45903.0, 45906.0, 45921.0, 45938.0, 45989.0, 46014.0, 46015.0, 46049.0, 46053.0, 46086.0, 46094.0, 46097.0, 46098.0, 46102.0, 46106.0, 46107.0, 46149.0, 46231.0, 46310.0, 46344.0, 46374.0, 46377.0, 46390.0, 46423.0, 46463.0, 46524.0, 46610.0, 46681.0, 46692.0, 46734.0, 46757.0, 46772.0, 46779.0, 46831.0, 46854.0, 46891.0, 46904.0, 46910.0, 46923.0, 46931.0, 46984.0, 46998.0, 47009.0, 47025.0, 47111.0, 47139.0, 47175.0, 47320.0, 47352.0, 47353.0, 47472.0, 47570.0, 47682.0, 47691.0, 47703.0, 47743.0, 47808.0, 47821.0, 47823.0, 47850.0, 47889.0, 47916.0, 47958.0, 48006.0, 48070.0, 48150.0, 48178.0, 48186.0, 48192.0, 48195.0, 48240.0, 48330.0, 48432.0, 48526.0, 48686.0, 48699.0, 48721.0, 48726.0, 48752.0, 48767.0, 48789.0, 48794.0, 48799.0, 48877.0, 48904.0, 48918.0, 48920.0, 48948.0, 48985.0, 49090.0, 49094.0, 49096.0, 49118.0, 49154.0, 49160.0, 49166.0, 49187.0, 49269.0, 49389.0, 49413.0, 49431.0, 49476.0, 49494.0, 49505.0, 49514.0, 49544.0, 49572.0, 49605.0, 49618.0, 49638.0, 49667.0, 49669.0, 49678.0, 49681.0, 49767.0, 49854.0, 49912.0, 49967.0, 49980.0, 50002.0, 50014.0, 50116.0, 50127.0, 50150.0, 50183.0, 50200.0, 50272.0, 50300.0, 50334.0, 50353.0, 50387.0, 50388.0, 50437.0, 50447.0, 50501.0, 50520.0, 50523.0, 50611.0, 50616.0, 50664.0, 50725.0, 50729.0, 50737.0, 50785.0, 50870.0, 50898.0, 50943.0, 50965.0, 51012.0, 51039.0, 51111.0, 51124.0, 51141.0, 51148.0, 51195.0, 51250.0, 51267.0, 51287.0, 51315.0, 51369.0, 51373.0, 51390.0, 51411.0, 51412.0, 51479.0, 51518.0, 51529.0, 51537.0, 51563.0, 51569.0, 51650.0, 51651.0, 51717.0, 51766.0, 51813.0, 51876.0, 51948.0, 51983.0, 52034.0, 52074.0, 52117.0, 52157.0, 52190.0, 52195.0, 52203.0, 52247.25135379061, 52278.0, 52332.0, 52413.0, 52513.0, 52531.0, 52569.0, 52597.0, 52614.0, 52750.0, 52845.0, 52852.0, 52854.0, 52869.0, 52914.0, 52973.0, 53034.0, 53083.0, 53103.0, 53154.0, 53172.0, 53187.0, 53201.0, 53204.0, 53230.0, 53233.0, 53253.0, 53312.0, 53359.0, 53367.0, 53374.0, 53378.0, 53537.0, 53593.0, 53653.0, 53700.0, 53761.0, 53790.0, 53843.0, 53858.0, 53863.0, 53977.0, 54006.0, 54058.0, 54072.0, 54108.0, 54111.0, 54132.0, 54137.0, 54162.0, 54165.0, 54178.0, 54197.0, 54198.0, 54210.0, 54222.0, 54233.0, 54237.0, 54252.0, 54342.0, 54348.0, 54356.0, 54386.0, 54414.0, 54432.0, 54450.0, 54456.0, 54466.0, 54549.0, 54591.0, 54603.0, 54690.0, 54693.0, 54730.0, 54753.0, 54803.0, 54809.0, 54880.0, 54959.0, 54984.0, 54998.0, 55012.0, 55158.0, 55212.0, 55239.0, 55249.0, 55250.0, 55260.0, 55267.0, 55282.0, 55284.0, 55357.0, 55375.0, 55412.0, 55424.0, 55434.0, 55517.0, 55521.0, 55563.0, 55593.0, 55614.0, 55635.0, 55686.0, 55707.0, 55759.0, 55761.0, 55801.0, 55842.0, 55914.0, 55951.0, 55954.0, 55956.0, 56046.0, 56067.0, 56129.0, 56181.0, 56223.0, 56242.0, 56243.0, 56253.0, 56320.0, 56337.0, 56386.0, 56534.0, 56551.0, 56559.0, 56575.0, 56628.0, 56715.0, 56721.0, 56775.0, 56796.0, 56850.0, 56937.0, 56939.0, 56962.0, 56981.0, 57036.0, 57045.0, 57072.0, 57091.0, 57100.0, 57107.0, 57113.0, 57136.0, 57183.0, 57236.0, 57247.0, 57288.0, 57304.0, 57333.0, 57338.0, 57420.0, 57513.0, 57530.0, 57537.0, 57642.0, 57705.0, 57731.0, 57744.0, 57811.0, 57867.0, 57906.0, 57912.0, 57937.0, 57954.0, 57957.0, 57959.0, 57967.0, 58025.0, 58086.0, 58113.0, 58116.0, 58138.0, 58217.0, 58275.0, 58293.0, 58308.0, 58330.0, 58350.0, 58398.0, 58401.0, 58482.0, 58494.0, 58512.0, 58554.0, 58582.0, 58597.0, 58607.0, 58646.0, 58656.0, 58684.0, 58692.0, 58710.0, 58821.0, 58917.0, 59041.0, 59052.0, 59060.0, 59062.0, 59111.0, 59184.0, 59235.0, 59247.0, 59292.0, 59304.0, 59354.0, 59385.0, 59412.0, 59432.0, 59462.0, 59481.0, 59594.0, 59601.0, 59666.0, 59686.0, 59754.0, 59809.0, 59821.0, 59868.0, 59892.0, 59925.0, 59973.0, 60000.0, 60033.0, 60093.0, 60152.0, 60161.0, 60182.0, 60199.0, 60200.0, 60208.0, 60230.0, 60432.0, 60474.0, 60482.0, 60491.0, 60504.0, 60544.0, 60554.0, 60585.0, 60597.0, 60631.0, 60689.0, 60714.0, 60839.0, 60894.0, 60896.0, 60905.0, 60934.0, 61010.0, 61014.0, 61064.0, 61074.0, 61180.0, 61209.0, 61223.0, 61250.0, 61278.0, 61284.0, 61286.0, 61314.0, 61331.0, 61346.0, 61416.0, 61456.0, 61467.0, 61482.0, 61559.0, 61618.0, 61671.0, 61787.0, 61794.0, 61798.0, 61823.0, 61825.0, 61839.0, 61872.0, 61905.0, 61917.0, 61923.0, 61996.0, 62000.0, 62010.0, 62058.0, 62061.0, 62159.0, 62187.0, 62204.0, 62220.0, 62307.0, 62335.0, 62450.0, 62466.0, 62499.0, 62503.0, 62513.0, 62535.0, 62551.0, 62568.0, 62637.0, 62670.0, 62694.0, 62710.0, 62745.0, 62772.0, 62807.0, 62820.0, 62845.0, 62847.0, 62859.0, 62882.0, 62905.0, 62972.0, 62981.0, 62994.0, 62998.0, 63033.0, 63120.0, 63159.0, 63206.0, 63207.0, 63211.0, 63246.0, 63285.0, 63342.0, 63381.0, 63404.0, 63516.0, 63564.0, 63684.0, 63693.0, 63777.0, 63810.0, 63841.0, 63855.0, 63887.0, 63915.0, 63943.0, 63967.0, 63972.0, 63998.0, 64014.0, 64090.0, 64100.0, 64108.0, 64140.0, 64176.0, 64191.0, 64260.0, 64325.0, 64355.0, 64413.0, 64449.0, 64474.0, 64497.0, 64504.0, 64509.0, 64587.0, 64590.0, 64713.0, 64722.0, 64795.0, 64813.0, 64831.0, 64849.0, 64857.0, 64866.0, 64892.0, 64950.0, 64961.0, 65031.0, 65073.0, 65104.0, 65106.0, 65148.0, 65169.0, 65176.0, 65196.0, 65210.0, 65220.0, 65275.0, 65295.0, 65308.0, 65316.0, 65324.0, 65333.0, 65352.0, 65370.0, 65463.0, 65486.0, 65487.0, 65488.0, 65492.0, 65526.0, 65569.0, 65640.0, 65665.0, 65685.0, 65695.0, 65704.0, 65706.0, 65735.0, 65747.0, 65748.0, 65777.0, 65808.0, 65814.0, 65819.0, 65846.0, 65968.0, 65991.0, 66000.0, 66033.0, 66294.0, 66303.0, 66313.0, 66334.0, 66373.0, 66375.0, 66426.0, 66465.0, 66476.0, 66480.0, 66503.0, 66565.0, 66582.0, 66636.0, 66653.0, 66664.0, 66726.0, 66731.0, 66825.0, 66835.0, 66886.0, 66951.0, 66973.0, 66991.0, 67023.0, 67046.0, 67087.0, 67131.0, 67225.0, 67267.0, 67272.0, 67309.0, 67353.0, 67369.0, 67381.0, 67384.0, 67419.0, 67430.0, 67432.0, 67433.0, 67445.0, 67472.0, 67506.0, 67536.0, 67546.0, 67605.0, 67680.0, 67716.0, 67786.0, 67893.0, 67911.0, 68092.0, 68117.0, 68118.0, 68126.0, 68142.0, 68148.0, 68274.0, 68281.0, 68316.0, 68352.0, 68397.0, 68462.0, 68487.0, 68627.0, 68655.0, 68657.0, 68682.0, 68695.0, 68743.0, 68805.0, 69016.0, 69063.0, 69084.0, 69096.0, 69098.0, 69109.0, 69139.0, 69142.0, 69209.0, 69245.0, 69263.0, 69267.0, 69283.0, 69372.0, 69389.0, 69401.0, 69476.0, 69508.0, 69520.0, 69627.0, 69661.0, 69674.0, 69702.0, 69719.0, 69755.0, 69759.0, 69805.0, 69867.0, 69882.0, 69901.0, 69930.0, 69932.0, 69969.0, 70038.0, 70044.0, 70053.0, 70091.0, 70116.0, 70123.0, 70165.0, 70179.0, 70287.0, 70300.0, 70321.0, 70337.0, 70356.0, 70379.0, 70421.0, 70440.0, 70503.0, 70515.0, 70545.0, 70566.0, 70596.0, 70617.0, 70638.0, 70643.0, 70647.0, 70666.0, 70713.0, 70777.0, 70792.0, 70829.0, 70844.0, 70886.0, 70893.0, 70924.0, 70932.0, 70951.0, 70971.0, 71022.0, 71107.0, 71113.0, 71128.0, 71163.0, 71232.0, 71322.0, 71367.0, 71391.0, 71427.0, 71434.0, 71466.0, 71488.0, 71499.0, 71604.0, 71613.0, 71626.0, 71670.0, 71691.0, 71706.0, 71796.0, 71819.0, 71847.0, 71853.0, 71855.0, 71866.0, 71952.0, 71964.0, 71965.0, 71969.0, 72025.0, 72063.0, 72066.0, 72071.0, 72099.0, 72117.0, 72159.0, 72190.0, 72217.0, 72228.0, 72258.0, 72282.0, 72298.0, 72309.0, 72335.0, 72354.0, 72460.0, 72504.0, 72550.0, 72570.0, 72635.0, 72643.0, 72679.0, 72828.0, 72903.0, 72905.0, 72906.0, 72940.0, 72967.0, 72968.0, 73059.0, 73113.0, 73170.0, 73356.0, 73395.0, 73448.0, 73450.0, 73454.0, 73455.0, 73538.0, 73687.0, 73691.0, 73705.0, 73803.0, 73807.0, 73892.0, 73926.0, 74004.0, 74068.0, 74116.0, 74165.0, 74190.0, 74214.0, 74250.0, 74268.0, 74290.0, 74293.0, 74485.0, 74538.0, 74637.0, 74716.0, 74805.0, 74806.0, 74854.0, 74859.0, 74881.0, 74918.0, 74985.0, 75012.0, 75027.0, 75032.0, 75072.0, 75114.0, 75127.0, 75154.0, 75236.0, 75251.0, 75261.0, 75276.0, 75278.0, 75283.0, 75315.0, 75330.0, 75342.0, 75345.0, 75433.0, 75437.0, 75484.0, 75507.0, 75693.0, 75702.0, 75759.0, 75774.0, 75777.0, 75794.0, 75825.0, 75865.0, 75903.0, 75922.0, 76005.0, 76045.0, 76068.0, 76081.0, 76140.0, 76234.0, 76320.0, 76412.0, 76445.0, 76467.0, 76532.0, 76542.0, 76618.0, 76624.0, 76630.0, 76653.0, 76773.0, 76800.0, 76842.0, 76982.0, 76995.0, 76998.0, 77027.0, 77037.0, 77044.0, 77142.0, 77226.0, 77297.0, 77298.0, 77343.0, 77353.0, 77376.0, 77382.0, 77437.0, 77457.0, 77520.0, 77568.0, 77583.0, 77598.0, 77610.0, 77622.0, 77632.0, 77766.0, 77845.0, 77863.0, 77870.0, 77882.0, 77972.0, 77981.0, 78028.0, 78041.0, 78075.0, 78093.0, 78128.0, 78285.0, 78331.0, 78353.0, 78394.0, 78416.0, 78420.0, 78427.0, 78468.0, 78497.0, 78499.0, 78569.0, 78579.0, 78618.0, 78642.0, 78687.0, 78710.0, 78789.0, 78825.0, 78901.0, 78931.0, 78939.0, 78952.0, 79143.0, 79146.0, 79174.0, 79205.0, 79244.0, 79410.0, 79419.0, 79456.0, 79529.0, 79530.0, 79593.0, 79607.0, 79632.0, 79689.0, 79734.0, 79761.0, 79800.0, 79803.0, 79823.0, 79865.0, 79908.0, 79930.0, 79941.0, 79946.0, 80011.0, 80067.0, 80124.0, 80134.0, 80141.0, 80144.0, 80184.0, 80317.0, 80336.0, 80360.0, 80395.0, 80398.0, 80427.0, 80573.0, 80589.0, 80617.0, 80685.0, 80695.0, 80739.0, 80763.0, 80812.0, 80872.0, 80910.0, 80950.0, 80952.0, 80982.0, 80995.0, 81044.0, 81051.0, 81168.0, 81169.0, 81205.0, 81217.0, 81246.0, 81300.0, 81320.0, 81361.0, 81380.0, 81574.0, 81657.0, 81698.0, 81702.0, 81741.0, 81795.0, 81843.0, 81929.0, 81975.0, 82014.0, 82017.0, 82025.0, 82032.0, 82072.0, 82122.0, 82170.0, 82224.0, 82326.0, 82332.0, 82333.0, 82347.0, 82384.0, 82427.0, 82460.0, 82497.0, 82504.0, 82571.0, 82576.0, 82582.0, 82584.0, 82623.0, 82657.0, 82716.0, 82733.0, 82800.0, 83003.0, 83033.0, 83145.0, 83151.0, 83257.0, 83273.0, 83443.0, 83512.0, 83528.0, 83532.0, 83664.0, 83715.0, 83790.0, 83829.0, 83837.0, 83844.0, 83891.0, 83917.0, 84117.0, 84169.0, 84196.0, 84219.0, 84460.0, 84574.0, 84618.0, 84835.0, 84865.0, 84906.0, 84953.0, 85072.0, 85431.0, 85485.0, 85606.0, 85620.0, 85683.0, 85693.0, 85696.0, 85710.0, 85738.0, 85844.0, 86037.0, 86111.0, 86358.0, 86424.0, 86429.0, 86580.0, 86610.0, 86718.0, 86836.0, 86857.0, 86979.0, 87000.0, 87171.0, 87188.0, 87195.0, 87305.0, 87679.0, 87771.0, 88097.0, 88194.0, 88325.0, 88347.0, 88420.0, 89058.0, 89120.0, 89572.0, 89616.0, 89694.0, 89891.0, 90000.0, 90226.0, 90247.0, 90273.0, 90300.0, 90369.0, 90638.0, 90687.0, 90765.0, 90842.0, 90933.0, 91065.0, 91172.0, 91249.0, 91700.0, 91712.0, 91820.0, 92163.0, 92344.0, 92491.0, 92533.0, 92556.0, 92859.0, 92910.0, 92955.0, 93027.0, 93404.0, 93790.0, 94384.0, 94472.0, 94642.0, 94871.0, 95169.0, 95529.0, 96547.0, 96843.0, 96876.0, 98777.0, 101970.0, 102160.0, 102692.0, 105471.0, 113734.0, 153924.0, 156924.0, 157146.0, 157243.0, 157733.0, 160803.0, 162397.0, 666666.0]\n"
     ]
    }
   ],
   "source": [
    "#Manually checkin the 'Income' col\n",
    "list_Income =list(sales_df['Income'].unique())\n",
    "list_Income.sort()\n",
    "print(list_Income)"
   ]
  },
  {
   "cell_type": "code",
   "execution_count": 288,
   "id": "99a19118",
   "metadata": {},
   "outputs": [
    {
     "data": {
      "text/plain": [
       "<Axes: >"
      ]
     },
     "execution_count": 288,
     "metadata": {},
     "output_type": "execute_result"
    },
    {
     "data": {
      "image/png": "[encoded data removed]",
      "text/plain": [
       "<Figure size 640x480 with 1 Axes>"
      ]
     },
     "metadata": {},
     "output_type": "display_data"
    }
   ],
   "source": [
    "plt.style.use('ggplot') \n",
    "sales_df['Education'].hist() "
   ]
  },
  {
   "cell_type": "code",
   "execution_count": 301,
   "id": "8b08e3d5",
   "metadata": {},
   "outputs": [
    {
     "data": {
      "text/plain": [
       "<Axes: xlabel='Income', ylabel='Year_Birth'>"
      ]
     },
     "execution_count": 301,
     "metadata": {},
     "output_type": "execute_result"
    },
    {
     "data": {
      "image/png": "[encoded data removed]",
      "text/plain": [
       "<Figure size 800x480 with 1 Axes>"
      ]
     },
     "metadata": {},
     "output_type": "display_data"
    }
   ],
   "source": [
    "\n",
    "fig, ax = plt.subplots(figsize=(10,6))\n",
    "sns.scatterplot(data= sales_df,y =sales_df.Year_Birth,x= sales_df.Income, hue ='Response')"
   ]
  },
  {
   "cell_type": "code",
   "execution_count": null,
   "id": "c52957bb",
   "metadata": {},
   "outputs": [],
   "source": []
  },
  {
   "cell_type": "code",
   "execution_count": 264,
   "id": "49b81679",
   "metadata": {},
   "outputs": [
    {
     "data": {
      "image/png": "[encoded data removed]",
      "text/plain": [
       "<Figure size 640x480 with 1 Axes>"
      ]
     },
     "metadata": {},
     "output_type": "display_data"
    }
   ],
   "source": [
    "np.random.seed(1234)\n",
    "sales_df = pd.DataFrame(np.random.randn(10, 4),\n",
    "                  columns=['NumStorePurchases', 'NumCatalogPurchases', 'NumWebVisitsMonth', 'NumDealsPurchases'])\n",
    "boxplot = sales_df.boxplot(column=['NumStorePurchases', 'NumCatalogPurchases', 'NumWebVisitsMonth', 'NumDealsPurchases']) "
   ]
  },
  {
   "cell_type": "code",
   "execution_count": 256,
   "id": "1204474c",
   "metadata": {},
   "outputs": [],
   "source": [
    "## Modling"
   ]
  },
  {
   "cell_type": "code",
   "execution_count": 257,
   "id": "72658b7f",
   "metadata": {},
   "outputs": [],
   "source": [
    "cols = list(sales_df.columns)"
   ]
  },
  {
   "cell_type": "code",
   "execution_count": 258,
   "id": "7411b43c",
   "metadata": {},
   "outputs": [
    {
     "name": "stdout",
     "output_type": "stream",
     "text": [
      "['ID', 'Year_Birth', 'Education', 'Marital_Status', 'Income', 'Kidhome', 'Teenhome', 'Dt_Customer', 'Recency', 'MntWines', 'MntFruits', 'MntMeatProducts', 'MntFishProducts', 'MntSweetProducts', 'MntGoldProds', 'NumDealsPurchases', 'NumWebPurchases', 'NumCatalogPurchases', 'NumStorePurchases', 'NumWebVisitsMonth', 'Complain', 'Response', 'Year', 'Month', 'Day']\n"
     ]
    }
   ],
   "source": [
    "print(cols)2"
   ]
  },
  {
   "cell_type": "code",
   "execution_count": 259,
   "id": "1908fd5c",
   "metadata": {},
   "outputs": [
    {
     "name": "stderr",
     "output_type": "stream",
     "text": [
      "/Users/dhwanipatel/anaconda3/lib/python3.11/site-packages/sklearn/utils/validation.py:1184: DataConversionWarning: A column-vector y was passed when a 1d array was expected. Please change the shape of y to (n_samples, ), for example using ravel().\n",
      "  y = column_or_1d(y, warn=True)\n"
     ]
    },
    {
     "data": {
      "text/plain": [
       "0.8666294642857143"
      ]
     },
     "execution_count": 259,
     "metadata": {},
     "output_type": "execute_result"
    }
   ],
   "source": [
    "#Training and Logistic\n",
    "y = sales_df[['Response']]\n",
    "x = sales_df [['ID', 'Year_Birth', 'Education', 'Marital_Status', \n",
    "                'Income', 'Kidhome', 'Teenhome','Recency', 'MntWines', \n",
    "                'MntFruits', 'MntMeatProducts', 'MntFishProducts','MntSweetProducts','MntGoldProds', \n",
    "                'NumDealsPurchases', 'NumWebPurchases', 'NumCatalogPurchases', \n",
    "                'NumStorePurchases', 'NumWebVisitsMonth','Complain']]\n",
    "x_train,x_test,y_train,y_test = train_test_split(x,y,test_size=0.2)\n",
    "model = LogisticRegression(solver = 'liblinear',random_state=0).fit(x_train,y_train)\n",
    "model.score(x_train,y_train)"
   ]
  },
  {
   "cell_type": "code",
   "execution_count": null,
   "id": "fd58048c",
   "metadata": {},
   "outputs": [],
   "source": []
  },
  {
   "cell_type": "code",
   "execution_count": 128,
   "id": "25a818fa",
   "metadata": {},
   "outputs": [
    {
     "name": "stdout",
     "output_type": "stream",
     "text": [
      "[0 0 0 0 0 0 0 0 0 0 0 0 0 1 0 0 0 0 0 0 0 0 0 0 0 0 0 0 0 0 0 0 0 0 0 0 0\n",
      " 0 0 0 0 0 0 1 0 0 0 0 1 0 0 0 0 0 0 0 0 0 0 0 0 0 0 0 1 0 0 0 0 0 0 0 0 0\n",
      " 0 0 0 0 0 0 0 0 0 0 0 0 0 0 0 0 0 0 0 0 0 0 1 0 1 1 0 0 0 0 0 0 0 0 0 0 0\n",
      " 0 0 0 0 0 0 1 0 0 0 0 0 0 0 0 0 0 0 0 0 0 0 0 0 0 0 0 0 0 0 0 0 0 0 1 0 0\n",
      " 0 0 0 0 0 0 0 0 0 0 1 0 0 0 0 0 0 0 0 1 0 1 0 0 0 0 0 0 0 0 0 0 0 0 0 0 0\n",
      " 0 0 1 0 0 0 0 0 0 0 0 0 0 0 0 0 0 0 0 0 0 0 0 0 0 1 0 0 0 0 0 0 0 0 0 0 0\n",
      " 0 0 0 0 0 0 0 0 0 0 0 0 0 0 0 0 0 0 0 0 0 0 0 0 0 0 0 0 0 0 0 0 0 0 0 0 0\n",
      " 0 0 0 0 0 0 1 0 0 0 0 0 0 0 0 0 0 0 0 0 0 0 0 0 0 0 0 0 0 0 0 0 0 0 0 0 0\n",
      " 0 0 0 0 0 0 0 0 0 0 0 0 0 0 0 1 0 0 0 0 0 0 0 0 0 0 0 0 0 1 0 0 0 0 0 0 0\n",
      " 0 0 0 0 0 0 1 0 0 0 0 0 0 0 0 0 1 0 0 0 0 0 0 0 0 0 0 0 0 0 0 0 0 0 0 0 0\n",
      " 0 0 0 0 1 0 0 0 0 0 0 0 0 0 0 0 0 0 0 0 0 0 0 0 0 0 0 0 0 0 0 0 0 0 0 0 0\n",
      " 0 0 0 0 0 0 0 0 0 0 0 0 0 0 0 0 0 0 0 0 0 0 0 0 0 0 0 0 0 0 1 0 0 0 0 0 0\n",
      " 0 0 0 0]\n"
     ]
    }
   ],
   "source": [
    "y_pred = model.predict(x_test)\n",
    "print(y_pred)"
   ]
  },
  {
   "cell_type": "code",
   "execution_count": 155,
   "id": "f94661d9",
   "metadata": {},
   "outputs": [],
   "source": [
    "#Confusion Matrix\n",
    "cm =confusion_matrix(y_test, y_pred)"
   ]
  },
  {
   "cell_type": "code",
   "execution_count": 156,
   "id": "065d2930",
   "metadata": {},
   "outputs": [
    {
     "name": "stdout",
     "output_type": "stream",
     "text": [
      "[[348  15]\n",
      " [ 73  12]]\n"
     ]
    }
   ],
   "source": [
    "print(cm)"
   ]
  },
  {
   "cell_type": "code",
   "execution_count": null,
   "id": "c08be9f8",
   "metadata": {},
   "outputs": [],
   "source": []
  },
  {
   "cell_type": "code",
   "execution_count": null,
   "id": "25555a24",
   "metadata": {},
   "outputs": [],
   "source": [
    "## SVM"
   ]
  },
  {
   "cell_type": "code",
   "execution_count": 123,
   "id": "ef7dcdc9",
   "metadata": {},
   "outputs": [
    {
     "name": "stderr",
     "output_type": "stream",
     "text": [
      "/Users/dhwanipatel/anaconda3/lib/python3.11/site-packages/sklearn/utils/validation.py:1184: DataConversionWarning: A column-vector y was passed when a 1d array was expected. Please change the shape of y to (n_samples, ), for example using ravel().\n",
      "  y = column_or_1d(y, warn=True)\n"
     ]
    },
    {
     "name": "stdout",
     "output_type": "stream",
     "text": [
      "Accuracy: 0.8588169642857143\n"
     ]
    }
   ],
   "source": [
    "from sklearn import svm\n",
    "svm_model =svm.SVC(kernel='linear')\n",
    "svm_final =svm_model.fit(x_train,y_train)\n",
    "print(\"Accuracy:\",svm_final.score(x_train,y_train))"
   ]
  },
  {
   "cell_type": "code",
   "execution_count": 158,
   "id": "12ed41e7",
   "metadata": {},
   "outputs": [
    {
     "name": "stdout",
     "output_type": "stream",
     "text": [
      "[0 0 0 0 0 0 0 0 0 0 0 0 0 1 0 1 0 0 0 0 0 0 0 0 0 0 0 0 0 0 0 0 0 0 0 0 0\n",
      " 0 0 0 0 0 0 1 0 0 0 0 1 0 0 0 0 0 0 0 0 0 0 0 0 0 0 0 0 0 0 0 0 0 0 0 0 0\n",
      " 0 0 0 0 0 0 0 0 0 0 0 0 0 0 0 0 0 0 0 0 0 1 1 0 1 1 1 0 0 0 0 0 0 0 0 1 0\n",
      " 0 1 0 0 0 0 1 0 0 0 0 0 0 0 0 0 0 0 0 0 0 0 0 0 0 0 0 0 0 0 0 0 0 0 0 0 0\n",
      " 0 0 0 0 0 0 0 0 1 0 0 0 0 0 0 0 0 0 1 0 0 1 0 0 0 0 0 0 0 0 0 0 0 0 0 0 0\n",
      " 0 0 1 0 0 0 0 0 0 0 0 0 0 0 0 0 0 0 0 0 0 0 0 0 0 1 0 0 0 0 0 0 0 0 0 0 0\n",
      " 0 0 0 0 0 0 0 0 0 0 0 0 0 0 0 0 0 0 0 0 0 0 0 0 0 0 0 0 0 0 0 0 0 0 0 0 0\n",
      " 0 0 0 0 0 0 1 0 0 0 0 0 0 0 0 0 0 0 0 0 0 0 0 0 0 0 0 0 0 0 0 0 0 0 0 0 0\n",
      " 0 0 0 0 0 0 0 0 0 1 0 0 0 0 0 1 0 0 0 0 1 0 0 0 0 0 0 0 0 1 0 0 0 0 0 0 0\n",
      " 0 0 0 0 0 0 1 1 0 0 0 0 0 0 0 0 1 0 0 0 0 0 0 0 0 0 0 0 0 0 0 0 0 0 0 0 0\n",
      " 0 0 0 0 0 0 0 0 0 0 0 0 1 0 0 0 0 0 0 0 0 0 0 0 0 0 0 0 0 0 0 1 0 0 0 0 0\n",
      " 0 0 0 0 0 0 0 0 0 0 0 0 0 0 0 0 0 0 0 0 0 0 0 0 0 0 0 0 0 0 0 0 0 0 0 0 0\n",
      " 0 0 0 0]\n"
     ]
    }
   ],
   "source": [
    "y_pred2 = svm_model.predict(x_test)\n",
    "print(y_pred2)"
   ]
  },
  {
   "cell_type": "code",
   "execution_count": null,
   "id": "1285693f",
   "metadata": {},
   "outputs": [],
   "source": [
    "## Confusion Matrix"
   ]
  },
  {
   "cell_type": "code",
   "execution_count": 159,
   "id": "341f30ec",
   "metadata": {},
   "outputs": [
    {
     "name": "stdout",
     "output_type": "stream",
     "text": [
      "[[348  15]\n",
      " [ 73  12]]\n"
     ]
    }
   ],
   "source": [
    "cm_SVM=confusion_matrix(y_test, y_pred2)\n",
    "print(cm_SVM)"
   ]
  },
  {
   "cell_type": "code",
   "execution_count": 303,
   "id": "efc0f7e4",
   "metadata": {},
   "outputs": [
    {
     "name": "stdout",
     "output_type": "stream",
     "text": [
      "                                 OLS Regression Results                                \n",
      "=======================================================================================\n",
      "Dep. Variable:               Response   R-squared (uncentered):                   0.305\n",
      "Model:                            OLS   Adj. R-squared (uncentered):              0.298\n",
      "Method:                 Least Squares   F-statistic:                              48.66\n",
      "Date:                Sun, 19 Nov 2023   Prob (F-statistic):                   9.94e-159\n",
      "Time:                        23:41:38   Log-Likelihood:                         -639.84\n",
      "No. Observations:                2240   AIC:                                      1320.\n",
      "Df Residuals:                    2220   BIC:                                      1434.\n",
      "Df Model:                          20                                                  \n",
      "Covariance Type:            nonrobust                                                  \n",
      "=======================================================================================\n",
      "                          coef    std err          t      P>|t|      [0.025      0.975]\n",
      "---------------------------------------------------------------------------------------\n",
      "ID                  -2.954e-06   2.11e-06     -1.397      0.162    -7.1e-06    1.19e-06\n",
      "Year_Birth           8.218e-05   2.35e-05      3.497      0.000    3.61e-05       0.000\n",
      "Education              -0.0014      0.005     -0.261      0.794      -0.012       0.009\n",
      "Marital_Status         -0.0009      0.006     -0.145      0.885      -0.014       0.012\n",
      "Income               2.124e-07   4.02e-07      0.529      0.597   -5.76e-07       1e-06\n",
      "Kidhome                 0.0124      0.017      0.722      0.471      -0.021       0.046\n",
      "Teenhome               -0.0806      0.015     -5.350      0.000      -0.110      -0.051\n",
      "Recency                -0.0025      0.000    -10.667      0.000      -0.003      -0.002\n",
      "MntWines                0.0003   3.31e-05      7.914      0.000       0.000       0.000\n",
      "MntFruits               0.0002      0.000      0.690      0.490      -0.000       0.001\n",
      "MntMeatProducts         0.0002   5.14e-05      4.734      0.000       0.000       0.000\n",
      "MntFishProducts        -0.0003      0.000     -1.606      0.108      -0.001    6.41e-05\n",
      "MntSweetProducts        0.0001      0.000      0.577      0.564      -0.000       0.001\n",
      "MntGoldProds            0.0004      0.000      2.308      0.021    5.53e-05       0.001\n",
      "NumDealsPurchases       0.0034      0.005      0.750      0.454      -0.006       0.012\n",
      "NumWebPurchases         0.0057      0.003      1.663      0.096      -0.001       0.012\n",
      "NumCatalogPurchases     0.0111      0.004      2.748      0.006       0.003       0.019\n",
      "NumStorePurchases      -0.0237      0.003     -7.402      0.000      -0.030      -0.017\n",
      "NumWebVisitsMonth       0.0189      0.004      4.441      0.000       0.011       0.027\n",
      "Complain                0.0477      0.071      0.671      0.503      -0.092       0.187\n",
      "==============================================================================\n",
      "Omnibus:                      525.002   Durbin-Watson:                   2.067\n",
      "Prob(Omnibus):                  0.000   Jarque-Bera (JB):              987.128\n",
      "Skew:                           1.449   Prob(JB):                    4.45e-215\n",
      "Kurtosis:                       4.476   Cond. No.                     6.05e+05\n",
      "==============================================================================\n",
      "\n",
      "Notes:\n",
      "[1] R² is computed without centering (uncentered) since the model does not contain a constant.\n",
      "[2] Standard Errors assume that the covariance matrix of the errors is correctly specified.\n",
      "[3] The condition number is large, 6.05e+05. This might indicate that there are\n",
      "strong multicollinearity or other numerical problems.\n"
     ]
    }
   ],
   "source": [
    "## LInear \n",
    "import statsmodels.api as sm\n",
    "X2 = sm.add_constant(x_train)\n",
    "est = sm.OLS(y.astype(float),x.astype(float))\n",
    "est2 = est.fit()\n",
    "print(est2.summary())"
   ]
  },
  {
   "cell_type": "code",
   "execution_count": null,
   "id": "564a2b4a",
   "metadata": {},
   "outputs": [],
   "source": []
  }
 ],
 "metadata": {
  "kernelspec": {
   "display_name": "Python 3 (ipykernel)",
   "language": "python",
   "name": "python3"
  },
  "language_info": {
   "codemirror_mode": {
    "name": "ipython",
    "version": 3
   },
   "file_extension": ".py",
   "mimetype": "text/x-python",
   "name": "python",
   "nbconvert_exporter": "python",
   "pygments_lexer": "ipython3",
   "version": "3.11.5"
  }
 },
 "nbformat": 4,
 "nbformat_minor": 5
}
